{
 "cells": [
  {
   "cell_type": "markdown",
   "id": "58c6afd0",
   "metadata": {},
   "source": [
    "### 1. Importing libraries and data\n",
    "#### 2. Data cleaning\n",
    "#### 3. Data prep for regression analysis\n",
    "#### 4. Regression analysis"
   ]
  },
  {
   "cell_type": "markdown",
   "id": "5b959008",
   "metadata": {},
   "source": [
    "### 1. Importing libraries and data"
   ]
  },
  {
   "cell_type": "code",
   "execution_count": 1,
   "id": "7dc86a50",
   "metadata": {},
   "outputs": [],
   "source": [
    "import pandas as pd\n",
    "import numpy as np\n",
    "import seaborn as sns\n",
    "import matplotlib\n",
    "import matplotlib.pyplot as plt\n",
    "import os\n",
    "import sklearn\n",
    "from sklearn.model_selection import train_test_split \n",
    "from sklearn.linear_model import LinearRegression\n",
    "from sklearn.metrics import mean_squared_error, r2_score"
   ]
  },
  {
   "cell_type": "code",
   "execution_count": 2,
   "id": "6ef60286",
   "metadata": {},
   "outputs": [],
   "source": [
    "# This option ensures that the graphs you create are displayed within the notebook without the need to \\\"call\\\" them specifically,\n",
    "%matplotlib inline"
   ]
  },
  {
   "cell_type": "code",
   "execution_count": 3,
   "id": "8bf13920",
   "metadata": {},
   "outputs": [],
   "source": [
    "#define a path\n",
    "path = r'C:\\Users\\haari\\OneDrive\\Documents\\Temperature Change Analysis'"
   ]
  },
  {
   "cell_type": "code",
   "execution_count": 4,
   "id": "37b117ea",
   "metadata": {},
   "outputs": [],
   "source": [
    "#import data frame\n",
    "df_temp = pd.read_csv(os.path.join(path, '02 Data', 'Prepared Data', 'FAOSTAT_Clean.csv'), index_col = False)"
   ]
  },
  {
   "cell_type": "code",
   "execution_count": 5,
   "id": "3bd27b1b",
   "metadata": {},
   "outputs": [
    {
     "data": {
      "text/plain": [
       "(222012, 8)"
      ]
     },
     "execution_count": 5,
     "metadata": {},
     "output_type": "execute_result"
    }
   ],
   "source": [
    "#check the output\n",
    "df_temp.shape"
   ]
  },
  {
   "cell_type": "code",
   "execution_count": 6,
   "id": "38cb9b0a",
   "metadata": {
    "scrolled": true
   },
   "outputs": [
    {
     "data": {
      "text/html": [
       "<div>\n",
       "<style scoped>\n",
       "    .dataframe tbody tr th:only-of-type {\n",
       "        vertical-align: middle;\n",
       "    }\n",
       "\n",
       "    .dataframe tbody tr th {\n",
       "        vertical-align: top;\n",
       "    }\n",
       "\n",
       "    .dataframe thead th {\n",
       "        text-align: right;\n",
       "    }\n",
       "</style>\n",
       "<table border=\"1\" class=\"dataframe\">\n",
       "  <thead>\n",
       "    <tr style=\"text-align: right;\">\n",
       "      <th></th>\n",
       "      <th>Unnamed: 0</th>\n",
       "      <th>Area Code (FAO)</th>\n",
       "      <th>Country</th>\n",
       "      <th>Months Code</th>\n",
       "      <th>Months</th>\n",
       "      <th>Year</th>\n",
       "      <th>Temp_Change</th>\n",
       "      <th>Temperature Change</th>\n",
       "    </tr>\n",
       "  </thead>\n",
       "  <tbody>\n",
       "    <tr>\n",
       "      <th>0</th>\n",
       "      <td>0</td>\n",
       "      <td>2</td>\n",
       "      <td>Afghanistan</td>\n",
       "      <td>7001</td>\n",
       "      <td>January</td>\n",
       "      <td>1961</td>\n",
       "      <td>0.746</td>\n",
       "      <td>High temp Change</td>\n",
       "    </tr>\n",
       "    <tr>\n",
       "      <th>1</th>\n",
       "      <td>1</td>\n",
       "      <td>2</td>\n",
       "      <td>Afghanistan</td>\n",
       "      <td>7001</td>\n",
       "      <td>January</td>\n",
       "      <td>1962</td>\n",
       "      <td>0.009</td>\n",
       "      <td>High temp Change</td>\n",
       "    </tr>\n",
       "    <tr>\n",
       "      <th>2</th>\n",
       "      <td>2</td>\n",
       "      <td>2</td>\n",
       "      <td>Afghanistan</td>\n",
       "      <td>7001</td>\n",
       "      <td>January</td>\n",
       "      <td>1963</td>\n",
       "      <td>2.695</td>\n",
       "      <td>High temp Change</td>\n",
       "    </tr>\n",
       "    <tr>\n",
       "      <th>3</th>\n",
       "      <td>3</td>\n",
       "      <td>2</td>\n",
       "      <td>Afghanistan</td>\n",
       "      <td>7001</td>\n",
       "      <td>January</td>\n",
       "      <td>1964</td>\n",
       "      <td>-5.277</td>\n",
       "      <td>Extreme Temp Change</td>\n",
       "    </tr>\n",
       "    <tr>\n",
       "      <th>4</th>\n",
       "      <td>4</td>\n",
       "      <td>2</td>\n",
       "      <td>Afghanistan</td>\n",
       "      <td>7001</td>\n",
       "      <td>January</td>\n",
       "      <td>1965</td>\n",
       "      <td>1.827</td>\n",
       "      <td>High temp Change</td>\n",
       "    </tr>\n",
       "  </tbody>\n",
       "</table>\n",
       "</div>"
      ],
      "text/plain": [
       "   Unnamed: 0  Area Code (FAO)      Country  Months Code   Months  Year  \\\n",
       "0           0                2  Afghanistan         7001  January  1961   \n",
       "1           1                2  Afghanistan         7001  January  1962   \n",
       "2           2                2  Afghanistan         7001  January  1963   \n",
       "3           3                2  Afghanistan         7001  January  1964   \n",
       "4           4                2  Afghanistan         7001  January  1965   \n",
       "\n",
       "   Temp_Change   Temperature Change  \n",
       "0        0.746     High temp Change  \n",
       "1        0.009     High temp Change  \n",
       "2        2.695     High temp Change  \n",
       "3       -5.277  Extreme Temp Change  \n",
       "4        1.827     High temp Change  "
      ]
     },
     "execution_count": 6,
     "metadata": {},
     "output_type": "execute_result"
    }
   ],
   "source": [
    "df_temp.head()"
   ]
  },
  {
   "cell_type": "markdown",
   "id": "c1dde967",
   "metadata": {},
   "source": [
    "###02. Data Cleaning"
   ]
  },
  {
   "cell_type": "code",
   "execution_count": 7,
   "id": "fc381e81",
   "metadata": {},
   "outputs": [
    {
     "data": {
      "text/plain": [
       "Index(['Unnamed: 0', 'Area Code (FAO)', 'Country', 'Months Code', 'Months',\n",
       "       'Year', 'Temp_Change', 'Temperature Change'],\n",
       "      dtype='object')"
      ]
     },
     "execution_count": 7,
     "metadata": {},
     "output_type": "execute_result"
    }
   ],
   "source": [
    "df_temp.columns"
   ]
  },
  {
   "cell_type": "code",
   "execution_count": 8,
   "id": "a5eb9077",
   "metadata": {},
   "outputs": [],
   "source": [
    "#df_temp.head(20)"
   ]
  },
  {
   "cell_type": "code",
   "execution_count": 9,
   "id": "f7f66357",
   "metadata": {},
   "outputs": [
    {
     "data": {
      "text/plain": [
       "(222012, 8)"
      ]
     },
     "execution_count": 9,
     "metadata": {},
     "output_type": "execute_result"
    }
   ],
   "source": [
    "df_temp.shape"
   ]
  },
  {
   "cell_type": "code",
   "execution_count": 10,
   "id": "1b192cac",
   "metadata": {
    "scrolled": false
   },
   "outputs": [],
   "source": [
    "#Drop the columns not necessary\n",
    "df_temp2 = df_temp.drop(columns = {'Unnamed: 0', 'Area Code (FAO)', 'Temperature Change'})"
   ]
  },
  {
   "cell_type": "code",
   "execution_count": 11,
   "id": "66077a7c",
   "metadata": {},
   "outputs": [
    {
     "data": {
      "text/plain": [
       "(222012, 5)"
      ]
     },
     "execution_count": 11,
     "metadata": {},
     "output_type": "execute_result"
    }
   ],
   "source": [
    "df_temp2.shape"
   ]
  },
  {
   "cell_type": "code",
   "execution_count": 12,
   "id": "f4eb0be0",
   "metadata": {},
   "outputs": [],
   "source": [
    "#subsetting the dataframe\n",
    "df_temp3 = df_temp2[df_temp2['Year'] > 1981]"
   ]
  },
  {
   "cell_type": "code",
   "execution_count": 13,
   "id": "ba338a9f",
   "metadata": {
    "scrolled": false
   },
   "outputs": [
    {
     "data": {
      "text/plain": [
       "(147357, 5)"
      ]
     },
     "execution_count": 13,
     "metadata": {},
     "output_type": "execute_result"
    }
   ],
   "source": [
    "df_temp3.shape"
   ]
  },
  {
   "cell_type": "markdown",
   "id": "8ce918bc",
   "metadata": {},
   "source": [
    "#### Missing Values"
   ]
  },
  {
   "cell_type": "code",
   "execution_count": 14,
   "id": "d3e0d16e",
   "metadata": {},
   "outputs": [
    {
     "data": {
      "text/plain": [
       "Country        0\n",
       "Months Code    0\n",
       "Months         0\n",
       "Year           0\n",
       "Temp_Change    0\n",
       "dtype: int64"
      ]
     },
     "execution_count": 14,
     "metadata": {},
     "output_type": "execute_result"
    }
   ],
   "source": [
    "# Check for missing values\n",
    "df_temp3.isnull().sum()\n",
    "# No missing values to handle"
   ]
  },
  {
   "cell_type": "markdown",
   "id": "6384f97f",
   "metadata": {},
   "source": [
    "#### Duplicates Check"
   ]
  },
  {
   "cell_type": "code",
   "execution_count": 15,
   "id": "7e57935a",
   "metadata": {},
   "outputs": [],
   "source": [
    "dups = df_temp3.duplicated()"
   ]
  },
  {
   "cell_type": "code",
   "execution_count": 16,
   "id": "981d673e",
   "metadata": {},
   "outputs": [
    {
     "data": {
      "text/plain": [
       "(147357,)"
      ]
     },
     "execution_count": 16,
     "metadata": {},
     "output_type": "execute_result"
    }
   ],
   "source": [
    "dups.shape # No Duplicates"
   ]
  },
  {
   "cell_type": "markdown",
   "id": "09543b72",
   "metadata": {},
   "source": [
    "#### Extreme Value checks"
   ]
  },
  {
   "cell_type": "code",
   "execution_count": 17,
   "id": "14836cc3",
   "metadata": {},
   "outputs": [
    {
     "name": "stderr",
     "output_type": "stream",
     "text": [
      "C:\\Users\\haari\\anaconda3\\lib\\site-packages\\seaborn\\distributions.py:2619: FutureWarning: `distplot` is a deprecated function and will be removed in a future version. Please adapt your code to use either `displot` (a figure-level function with similar flexibility) or `histplot` (an axes-level function for histograms).\n",
      "  warnings.warn(msg, FutureWarning)\n"
     ]
    },
    {
     "data": {
      "image/png": "[encoded data removed]",
      "text/plain": [
       "<Figure size 432x288 with 1 Axes>"
      ]
     },
     "metadata": {
      "needs_background": "light"
     },
     "output_type": "display_data"
    }
   ],
   "source": [
    "dist_plot = sns.distplot(df_temp3['Temp_Change'], bins=25) # Shows extreme values\n",
    "# Some of the outliers in the high values may need to be removed\n"
   ]
  },
  {
   "cell_type": "code",
   "execution_count": 18,
   "id": "33411850",
   "metadata": {},
   "outputs": [],
   "source": [
    "dist_plot.figure.savefig(os.path.join(path, '04 Analysis','Visualizations', 'dist_plot.png'))"
   ]
  },
  {
   "cell_type": "code",
   "execution_count": 19,
   "id": "b123b620",
   "metadata": {},
   "outputs": [
    {
     "data": {
      "text/plain": [
       "0.7369532495911256"
      ]
     },
     "execution_count": 19,
     "metadata": {},
     "output_type": "execute_result"
    }
   ],
   "source": [
    "df_temp3['Temp_Change'].mean() # Check the mean"
   ]
  },
  {
   "cell_type": "code",
   "execution_count": 20,
   "id": "754aa1e2",
   "metadata": {},
   "outputs": [
    {
     "data": {
      "text/plain": [
       "0.666"
      ]
     },
     "execution_count": 20,
     "metadata": {},
     "output_type": "execute_result"
    }
   ],
   "source": [
    "df_temp3['Temp_Change'].median() # Check the median"
   ]
  },
  {
   "cell_type": "code",
   "execution_count": 21,
   "id": "2ef91866",
   "metadata": {},
   "outputs": [
    {
     "data": {
      "text/plain": [
       "11.759"
      ]
     },
     "execution_count": 21,
     "metadata": {},
     "output_type": "execute_result"
    }
   ],
   "source": [
    "df_temp3['Temp_Change'].max() # Check the max"
   ]
  },
  {
   "cell_type": "code",
   "execution_count": 22,
   "id": "5d73d38f",
   "metadata": {},
   "outputs": [
    {
     "data": {
      "text/plain": [
       "-9.303"
      ]
     },
     "execution_count": 22,
     "metadata": {},
     "output_type": "execute_result"
    }
   ],
   "source": [
    "df_temp3['Temp_Change'].min() #check the min"
   ]
  },
  {
   "cell_type": "markdown",
   "id": "270ea635",
   "metadata": {},
   "source": [
    "### 3. Data prep for the Regression Analysis"
   ]
  },
  {
   "cell_type": "code",
   "execution_count": 23,
   "id": "5607665a",
   "metadata": {
    "scrolled": true
   },
   "outputs": [
    {
     "data": {
      "image/png": "[encoded data removed]",
      "text/plain": [
       "<Figure size 432x288 with 1 Axes>"
      ]
     },
     "metadata": {
      "needs_background": "light"
     },
     "output_type": "display_data"
    }
   ],
   "source": [
    "#Create a scatterplot using matplotlib for another look at how the variables plot against each other.\n",
    "df_temp3.plot(x = 'Year', y='Temp_Change',style='o') # The style option creates a scatterplot; without it, we only have lines.\n",
    "plt.title('Relation between Year and Avg. Temperature Changes')  \n",
    "plt.xlabel('Year')  \n",
    "plt.ylabel('Avg. Temp. Changes')  \n",
    "plt.show()"
   ]
  },
  {
   "cell_type": "markdown",
   "id": "9e826b4c",
   "metadata": {},
   "source": [
    "Hypothesis: As year progresses, the avg. Temperature Change increases"
   ]
  },
  {
   "cell_type": "code",
   "execution_count": 24,
   "id": "1c60a133",
   "metadata": {},
   "outputs": [],
   "source": [
    "#Reshape the variables into NumPy arrays and put them into separate objects.   \n",
    "X = df_temp3['Year'].values.reshape(-1,1)\n",
    "y = df_temp3['Temp_Change'].values.reshape(-1,1)"
   ]
  },
  {
   "cell_type": "code",
   "execution_count": 25,
   "id": "781a1b30",
   "metadata": {},
   "outputs": [
    {
     "data": {
      "text/plain": [
       "array([[1982],\n",
       "       [1983],\n",
       "       [1984],\n",
       "       ...,\n",
       "       [2018],\n",
       "       [2019],\n",
       "       [2020]], dtype=int64)"
      ]
     },
     "execution_count": 25,
     "metadata": {},
     "output_type": "execute_result"
    }
   ],
   "source": [
    "X"
   ]
  },
  {
   "cell_type": "code",
   "execution_count": 26,
   "id": "d336550b",
   "metadata": {},
   "outputs": [
    {
     "data": {
      "text/plain": [
       "array([[ 0.711],\n",
       "       [ 0.546],\n",
       "       [-0.043],\n",
       "       ...,\n",
       "       [ 0.747],\n",
       "       [ 1.359],\n",
       "       [ 0.82 ]])"
      ]
     },
     "execution_count": 26,
     "metadata": {},
     "output_type": "execute_result"
    }
   ],
   "source": [
    "y"
   ]
  },
  {
   "cell_type": "code",
   "execution_count": 27,
   "id": "95ead923",
   "metadata": {},
   "outputs": [],
   "source": [
    "#Split data into a training set and a test set.\n",
    "X_train, X_test, y_train, y_test = train_test_split(X, y, test_size=0.3, random_state=0)"
   ]
  },
  {
   "cell_type": "markdown",
   "id": "ac644eee",
   "metadata": {},
   "source": [
    "### 4. Regression Analysis"
   ]
  },
  {
   "cell_type": "code",
   "execution_count": 28,
   "id": "2dc9ae3f",
   "metadata": {},
   "outputs": [],
   "source": [
    "# Create a regression object.\n",
    "regression = LinearRegression()  # This is the regression object, which will be fit onto the training set.\""
   ]
  },
  {
   "cell_type": "code",
   "execution_count": 29,
   "id": "cecf930b",
   "metadata": {},
   "outputs": [
    {
     "data": {
      "text/plain": [
       "LinearRegression()"
      ]
     },
     "execution_count": 29,
     "metadata": {},
     "output_type": "execute_result"
    }
   ],
   "source": [
    "# Fit the regression object onto the training set.\n",
    "regression.fit(X_train, y_train)"
   ]
  },
  {
   "cell_type": "code",
   "execution_count": 30,
   "id": "b5ceeb94",
   "metadata": {},
   "outputs": [],
   "source": [
    "# Predict the values of y using X.\n",
    "y_predicted = regression.predict(X_test)"
   ]
  },
  {
   "cell_type": "code",
   "execution_count": 31,
   "id": "f116a1d3",
   "metadata": {},
   "outputs": [
    {
     "data": {
      "image/png": "[encoded data removed]",
      "text/plain": [
       "<Figure size 432x288 with 1 Axes>"
      ]
     },
     "metadata": {
      "needs_background": "light"
     },
     "output_type": "display_data"
    }
   ],
   "source": [
    "#Create a plot that shows the regression line from the model on the test set.\n",
    "plot_test = plt\n",
    "plot_test.scatter(X_test, y_test, color='gray', s = 15)\n",
    "plot_test.plot(X_test, y_predicted, color='red', linewidth =3)\n",
    "plot_test.title('Year Vs Temp Change (Test set)')\n",
    "plot_test.xlabel('Year')\n",
    "plot_test.ylabel('Avg. Temp Changes')\n",
    "plot_test.show()"
   ]
  },
  {
   "cell_type": "markdown",
   "id": "d6ecfd0a",
   "metadata": {},
   "source": []
  },
  {
   "cell_type": "code",
   "execution_count": 33,
   "id": "2fe5e3f8",
   "metadata": {},
   "outputs": [],
   "source": [
    "# Create objects that contain the model summary statistics.\n",
    "rmse = mean_squared_error(y_test, y_predicted) # This is the mean squared error\n",
    "r2 = r2_score(y_test, y_predicted) # This is the R2 score. "
   ]
  },
  {
   "cell_type": "code",
   "execution_count": 34,
   "id": "10e4709f",
   "metadata": {},
   "outputs": [
    {
     "name": "stdout",
     "output_type": "stream",
     "text": [
      "Slope: [[0.03312696]]\n",
      "Mean squared error:  0.96262685275262\n",
      "R2 score:  0.12662439877399934\n"
     ]
    }
   ],
   "source": [
    "#Print the model summary statistics. This is where you evaluate the performance of the model.\n",
    "print('Slope:' ,regression.coef_)\n",
    "print('Mean squared error: ', rmse)\n",
    "print('R2 score: ', r2)\n"
   ]
  },
  {
   "cell_type": "markdown",
   "id": "c59e80b1",
   "metadata": {},
   "source": [
    "From the above regression Analysis, Slope is 0.033 which says there is a positive relationship between the two variables, Year and Temp_Change. The R2 Score for the model is 0.126, or 13%, which makes it not a great fit for this data."
   ]
  },
  {
   "cell_type": "code",
   "execution_count": 35,
   "id": "707d638f",
   "metadata": {},
   "outputs": [
    {
     "data": {
      "text/plain": [
       "array([[1.12309648],\n",
       "       [0.59306518],\n",
       "       [0.22866865],\n",
       "       ...,\n",
       "       [1.22247735],\n",
       "       [1.1893504 ],\n",
       "       [0.49368431]])"
      ]
     },
     "execution_count": 35,
     "metadata": {},
     "output_type": "execute_result"
    }
   ],
   "source": [
    "y_predicted"
   ]
  },
  {
   "cell_type": "code",
   "execution_count": 36,
   "id": "2081cb65",
   "metadata": {},
   "outputs": [
    {
     "data": {
      "text/html": [
       "<div>\n",
       "<style scoped>\n",
       "    .dataframe tbody tr th:only-of-type {\n",
       "        vertical-align: middle;\n",
       "    }\n",
       "\n",
       "    .dataframe tbody tr th {\n",
       "        vertical-align: top;\n",
       "    }\n",
       "\n",
       "    .dataframe thead th {\n",
       "        text-align: right;\n",
       "    }\n",
       "</style>\n",
       "<table border=\"1\" class=\"dataframe\">\n",
       "  <thead>\n",
       "    <tr style=\"text-align: right;\">\n",
       "      <th></th>\n",
       "      <th>Actual</th>\n",
       "      <th>Predicted</th>\n",
       "    </tr>\n",
       "  </thead>\n",
       "  <tbody>\n",
       "    <tr>\n",
       "      <th>0</th>\n",
       "      <td>0.796</td>\n",
       "      <td>1.123096</td>\n",
       "    </tr>\n",
       "    <tr>\n",
       "      <th>1</th>\n",
       "      <td>1.059</td>\n",
       "      <td>0.593065</td>\n",
       "    </tr>\n",
       "    <tr>\n",
       "      <th>2</th>\n",
       "      <td>-1.994</td>\n",
       "      <td>0.228669</td>\n",
       "    </tr>\n",
       "    <tr>\n",
       "      <th>3</th>\n",
       "      <td>0.486</td>\n",
       "      <td>1.156223</td>\n",
       "    </tr>\n",
       "    <tr>\n",
       "      <th>4</th>\n",
       "      <td>1.358</td>\n",
       "      <td>0.593065</td>\n",
       "    </tr>\n",
       "    <tr>\n",
       "      <th>5</th>\n",
       "      <td>0.572</td>\n",
       "      <td>1.255604</td>\n",
       "    </tr>\n",
       "    <tr>\n",
       "      <th>6</th>\n",
       "      <td>1.941</td>\n",
       "      <td>0.824954</td>\n",
       "    </tr>\n",
       "    <tr>\n",
       "      <th>7</th>\n",
       "      <td>0.397</td>\n",
       "      <td>0.924335</td>\n",
       "    </tr>\n",
       "    <tr>\n",
       "      <th>8</th>\n",
       "      <td>-0.076</td>\n",
       "      <td>0.294923</td>\n",
       "    </tr>\n",
       "    <tr>\n",
       "      <th>9</th>\n",
       "      <td>0.431</td>\n",
       "      <td>0.195542</td>\n",
       "    </tr>\n",
       "    <tr>\n",
       "      <th>10</th>\n",
       "      <td>1.039</td>\n",
       "      <td>0.626192</td>\n",
       "    </tr>\n",
       "    <tr>\n",
       "      <th>11</th>\n",
       "      <td>0.501</td>\n",
       "      <td>1.156223</td>\n",
       "    </tr>\n",
       "    <tr>\n",
       "      <th>12</th>\n",
       "      <td>0.170</td>\n",
       "      <td>0.858081</td>\n",
       "    </tr>\n",
       "    <tr>\n",
       "      <th>13</th>\n",
       "      <td>2.275</td>\n",
       "      <td>1.354985</td>\n",
       "    </tr>\n",
       "    <tr>\n",
       "      <th>14</th>\n",
       "      <td>1.405</td>\n",
       "      <td>1.023716</td>\n",
       "    </tr>\n",
       "    <tr>\n",
       "      <th>15</th>\n",
       "      <td>1.437</td>\n",
       "      <td>1.288731</td>\n",
       "    </tr>\n",
       "    <tr>\n",
       "      <th>16</th>\n",
       "      <td>2.661</td>\n",
       "      <td>1.056843</td>\n",
       "    </tr>\n",
       "    <tr>\n",
       "      <th>17</th>\n",
       "      <td>0.253</td>\n",
       "      <td>0.824954</td>\n",
       "    </tr>\n",
       "    <tr>\n",
       "      <th>18</th>\n",
       "      <td>0.429</td>\n",
       "      <td>1.189350</td>\n",
       "    </tr>\n",
       "    <tr>\n",
       "      <th>19</th>\n",
       "      <td>1.520</td>\n",
       "      <td>1.123096</td>\n",
       "    </tr>\n",
       "    <tr>\n",
       "      <th>20</th>\n",
       "      <td>-0.735</td>\n",
       "      <td>0.228669</td>\n",
       "    </tr>\n",
       "    <tr>\n",
       "      <th>21</th>\n",
       "      <td>-0.030</td>\n",
       "      <td>0.593065</td>\n",
       "    </tr>\n",
       "    <tr>\n",
       "      <th>22</th>\n",
       "      <td>-0.321</td>\n",
       "      <td>0.824954</td>\n",
       "    </tr>\n",
       "    <tr>\n",
       "      <th>23</th>\n",
       "      <td>1.006</td>\n",
       "      <td>0.228669</td>\n",
       "    </tr>\n",
       "    <tr>\n",
       "      <th>24</th>\n",
       "      <td>-0.625</td>\n",
       "      <td>0.427430</td>\n",
       "    </tr>\n",
       "    <tr>\n",
       "      <th>25</th>\n",
       "      <td>0.484</td>\n",
       "      <td>0.096161</td>\n",
       "    </tr>\n",
       "    <tr>\n",
       "      <th>26</th>\n",
       "      <td>-0.060</td>\n",
       "      <td>0.228669</td>\n",
       "    </tr>\n",
       "    <tr>\n",
       "      <th>27</th>\n",
       "      <td>0.148</td>\n",
       "      <td>0.990589</td>\n",
       "    </tr>\n",
       "    <tr>\n",
       "      <th>28</th>\n",
       "      <td>0.251</td>\n",
       "      <td>1.288731</td>\n",
       "    </tr>\n",
       "    <tr>\n",
       "      <th>29</th>\n",
       "      <td>1.012</td>\n",
       "      <td>1.288731</td>\n",
       "    </tr>\n",
       "  </tbody>\n",
       "</table>\n",
       "</div>"
      ],
      "text/plain": [
       "    Actual  Predicted\n",
       "0    0.796   1.123096\n",
       "1    1.059   0.593065\n",
       "2   -1.994   0.228669\n",
       "3    0.486   1.156223\n",
       "4    1.358   0.593065\n",
       "5    0.572   1.255604\n",
       "6    1.941   0.824954\n",
       "7    0.397   0.924335\n",
       "8   -0.076   0.294923\n",
       "9    0.431   0.195542\n",
       "10   1.039   0.626192\n",
       "11   0.501   1.156223\n",
       "12   0.170   0.858081\n",
       "13   2.275   1.354985\n",
       "14   1.405   1.023716\n",
       "15   1.437   1.288731\n",
       "16   2.661   1.056843\n",
       "17   0.253   0.824954\n",
       "18   0.429   1.189350\n",
       "19   1.520   1.123096\n",
       "20  -0.735   0.228669\n",
       "21  -0.030   0.593065\n",
       "22  -0.321   0.824954\n",
       "23   1.006   0.228669\n",
       "24  -0.625   0.427430\n",
       "25   0.484   0.096161\n",
       "26  -0.060   0.228669\n",
       "27   0.148   0.990589\n",
       "28   0.251   1.288731\n",
       "29   1.012   1.288731"
      ]
     },
     "execution_count": 36,
     "metadata": {},
     "output_type": "execute_result"
    }
   ],
   "source": [
    "# Create a dataframe comparing the actual and predicted values of y.\n",
    "data = pd.DataFrame({'Actual': y_test.flatten(), 'Predicted': y_predicted.flatten()})\n",
    "data.head(30)"
   ]
  },
  {
   "cell_type": "markdown",
   "id": "5467bb42",
   "metadata": {},
   "source": [
    "##### Compare how the regression fits the training set"
   ]
  },
  {
   "cell_type": "code",
   "execution_count": 37,
   "id": "9e23f76f",
   "metadata": {},
   "outputs": [],
   "source": [
    "# Predict.\n",
    "y_predicted_train = regression.predict(X_train) # This is predicting X_train!"
   ]
  },
  {
   "cell_type": "code",
   "execution_count": 38,
   "id": "b0fad3ee",
   "metadata": {},
   "outputs": [],
   "source": [
    "rmse = mean_squared_error(y_train, y_predicted_train)\n",
    "r2 = r2_score(y_train, y_predicted_train)"
   ]
  },
  {
   "cell_type": "code",
   "execution_count": 39,
   "id": "d14de5ef",
   "metadata": {},
   "outputs": [
    {
     "name": "stdout",
     "output_type": "stream",
     "text": [
      "Slope: [[0.03312696]]\n",
      "Mean squared error:  0.965398359127904\n",
      "R2 score:  0.1247642275051184\n"
     ]
    }
   ],
   "source": [
    "print('Slope:' ,regression.coef_)\n",
    "print('Mean squared error: ', rmse)\n",
    "print('R2 score: ', r2)"
   ]
  },
  {
   "cell_type": "code",
   "execution_count": 40,
   "id": "558c1fc2",
   "metadata": {},
   "outputs": [
    {
     "data": {
      "image/png": "[encoded data removed]",
      "text/plain": [
       "<Figure size 432x288 with 1 Axes>"
      ]
     },
     "metadata": {
      "needs_background": "light"
     },
     "output_type": "display_data"
    }
   ],
   "source": [
    "# Visualizing the training set results.\n",
    "plot_test = plt\n",
    "plot_test.scatter(X_train, y_train, color='green', s = 15)\n",
    "plot_test.plot(X_train, y_predicted_train, color='red', linewidth =3)\n",
    "plot_test.title('Year Vs Avg.Temp Changes (Test set)')\n",
    "plot_test.xlabel('Year')\n",
    "plot_test.ylabel('Avg.Temperature Changes')\n",
    "plot_test.show()"
   ]
  },
  {
   "cell_type": "markdown",
   "id": "3d960b04",
   "metadata": {},
   "source": [
    "### Performance improvement after removing outliers"
   ]
  },
  {
   "cell_type": "code",
   "execution_count": 41,
   "id": "860ee256",
   "metadata": {},
   "outputs": [],
   "source": [
    "# Clean the extreme values from the 'Temp_Change' variable observed during the consistency checks.\n",
    "df_test = df_temp3[(df_temp3['Temp_Change'] >-5) & (df_temp3['Temp_Change'] < 5)] "
   ]
  },
  {
   "cell_type": "code",
   "execution_count": 42,
   "id": "5c7a67ed",
   "metadata": {},
   "outputs": [
    {
     "data": {
      "image/png": "[encoded data removed]",
      "text/plain": [
       "<Figure size 432x288 with 1 Axes>"
      ]
     },
     "metadata": {
      "needs_background": "light"
     },
     "output_type": "display_data"
    }
   ],
   "source": [
    "# See how the scatterplot looks without outliers.\n",
    "df_test.plot(x = 'Year', y='Temp_Change', style='o')  \n",
    "plt.title('Temperature Change Vs Year')  \n",
    "plt.xlabel('Year')  \n",
    "plt.ylabel('Temperature Change')  \n",
    "plt.show()"
   ]
  },
  {
   "cell_type": "code",
   "execution_count": 43,
   "id": "c1373c0f",
   "metadata": {},
   "outputs": [],
   "source": [
    "# Reshape again.\n",
    "X_2 = df_test['Year'].values.reshape(-1,1)\n",
    "y_2 = df_test['Temp_Change'].values.reshape(-1,1)"
   ]
  },
  {
   "cell_type": "code",
   "execution_count": 44,
   "id": "7a057738",
   "metadata": {},
   "outputs": [],
   "source": [
    "X_train_2, X_test_2, y_train_2, y_test_2 = train_test_split(X_2, y_2, test_size=0.3, random_state=0)"
   ]
  },
  {
   "cell_type": "code",
   "execution_count": 45,
   "id": "f4afe278",
   "metadata": {},
   "outputs": [
    {
     "data": {
      "text/plain": [
       "LinearRegression()"
      ]
     },
     "execution_count": 45,
     "metadata": {},
     "output_type": "execute_result"
    }
   ],
   "source": [
    "# Run and fit the regression.\n",
    "regression = LinearRegression()  \n",
    "regression.fit(X_train_2, y_train_2)"
   ]
  },
  {
   "cell_type": "code",
   "execution_count": 46,
   "id": "16bfa1a9",
   "metadata": {},
   "outputs": [],
   "source": [
    "# Predict\n",
    "y_predicted_2 = regression.predict(X_test_2)\n"
   ]
  },
  {
   "cell_type": "code",
   "execution_count": 47,
   "id": "b656e6e6",
   "metadata": {},
   "outputs": [],
   "source": [
    "rmse = mean_squared_error(y_test_2, y_predicted_2)\n",
    "r2 = r2_score(y_test_2, y_predicted_2)"
   ]
  },
  {
   "cell_type": "code",
   "execution_count": 48,
   "id": "55745e3e",
   "metadata": {},
   "outputs": [
    {
     "name": "stdout",
     "output_type": "stream",
     "text": [
      "Slope: [[0.03232318]]\n",
      "Mean squared error:  0.8580849521642832\n",
      "R2 score:  0.13131807797730533\n"
     ]
    }
   ],
   "source": [
    "print('Slope:' ,regression.coef_)\n",
    "print('Mean squared error: ', rmse)\n",
    "print('R2 score: ', r2)"
   ]
  },
  {
   "cell_type": "code",
   "execution_count": 49,
   "id": "524d738b",
   "metadata": {},
   "outputs": [
    {
     "data": {
      "image/png": "[encoded data removed]",
      "text/plain": [
       "<Figure size 432x288 with 1 Axes>"
      ]
     },
     "metadata": {
      "needs_background": "light"
     },
     "output_type": "display_data"
    }
   ],
   "source": [
    "# Visualizing the test set results.\n",
    "plot_test = plt\n",
    "plot_test.scatter(X_test_2, y_test_2, color='gray', s = 15)\n",
    "plot_test.plot(X_train_2, regression.predict(X_train_2), color='red', linewidth =3)\n",
    "plot_test.title('Year Vs Temperature Change (Test set)')\n",
    "plot_test.xlabel('Year')\n",
    "plot_test.ylabel('Temperature Change')\n",
    "plot_test.show()"
   ]
  },
  {
   "cell_type": "code",
   "execution_count": 50,
   "id": "d0e41747",
   "metadata": {},
   "outputs": [
    {
     "data": {
      "text/html": [
       "<div>\n",
       "<style scoped>\n",
       "    .dataframe tbody tr th:only-of-type {\n",
       "        vertical-align: middle;\n",
       "    }\n",
       "\n",
       "    .dataframe tbody tr th {\n",
       "        vertical-align: top;\n",
       "    }\n",
       "\n",
       "    .dataframe thead th {\n",
       "        text-align: right;\n",
       "    }\n",
       "</style>\n",
       "<table border=\"1\" class=\"dataframe\">\n",
       "  <thead>\n",
       "    <tr style=\"text-align: right;\">\n",
       "      <th></th>\n",
       "      <th>Actual</th>\n",
       "      <th>Predicted</th>\n",
       "    </tr>\n",
       "  </thead>\n",
       "  <tbody>\n",
       "    <tr>\n",
       "      <th>0</th>\n",
       "      <td>0.755</td>\n",
       "      <td>1.101529</td>\n",
       "    </tr>\n",
       "    <tr>\n",
       "      <th>1</th>\n",
       "      <td>1.852</td>\n",
       "      <td>1.295468</td>\n",
       "    </tr>\n",
       "    <tr>\n",
       "      <th>2</th>\n",
       "      <td>-0.069</td>\n",
       "      <td>0.552035</td>\n",
       "    </tr>\n",
       "    <tr>\n",
       "      <th>3</th>\n",
       "      <td>3.138</td>\n",
       "      <td>0.325773</td>\n",
       "    </tr>\n",
       "    <tr>\n",
       "      <th>4</th>\n",
       "      <td>0.762</td>\n",
       "      <td>1.230822</td>\n",
       "    </tr>\n",
       "    <tr>\n",
       "      <th>5</th>\n",
       "      <td>0.246</td>\n",
       "      <td>0.164157</td>\n",
       "    </tr>\n",
       "    <tr>\n",
       "      <th>6</th>\n",
       "      <td>0.332</td>\n",
       "      <td>0.842944</td>\n",
       "    </tr>\n",
       "    <tr>\n",
       "      <th>7</th>\n",
       "      <td>0.946</td>\n",
       "      <td>1.166175</td>\n",
       "    </tr>\n",
       "    <tr>\n",
       "      <th>8</th>\n",
       "      <td>0.076</td>\n",
       "      <td>0.390419</td>\n",
       "    </tr>\n",
       "    <tr>\n",
       "      <th>9</th>\n",
       "      <td>0.254</td>\n",
       "      <td>1.036883</td>\n",
       "    </tr>\n",
       "    <tr>\n",
       "      <th>10</th>\n",
       "      <td>-0.066</td>\n",
       "      <td>0.099511</td>\n",
       "    </tr>\n",
       "    <tr>\n",
       "      <th>11</th>\n",
       "      <td>0.854</td>\n",
       "      <td>1.069206</td>\n",
       "    </tr>\n",
       "    <tr>\n",
       "      <th>12</th>\n",
       "      <td>1.415</td>\n",
       "      <td>1.166175</td>\n",
       "    </tr>\n",
       "    <tr>\n",
       "      <th>13</th>\n",
       "      <td>0.316</td>\n",
       "      <td>0.358096</td>\n",
       "    </tr>\n",
       "    <tr>\n",
       "      <th>14</th>\n",
       "      <td>0.091</td>\n",
       "      <td>0.358096</td>\n",
       "    </tr>\n",
       "    <tr>\n",
       "      <th>15</th>\n",
       "      <td>0.648</td>\n",
       "      <td>0.196480</td>\n",
       "    </tr>\n",
       "    <tr>\n",
       "      <th>16</th>\n",
       "      <td>0.337</td>\n",
       "      <td>0.293450</td>\n",
       "    </tr>\n",
       "    <tr>\n",
       "      <th>17</th>\n",
       "      <td>0.978</td>\n",
       "      <td>0.810621</td>\n",
       "    </tr>\n",
       "    <tr>\n",
       "      <th>18</th>\n",
       "      <td>-1.702</td>\n",
       "      <td>0.455066</td>\n",
       "    </tr>\n",
       "    <tr>\n",
       "      <th>19</th>\n",
       "      <td>2.304</td>\n",
       "      <td>1.166175</td>\n",
       "    </tr>\n",
       "    <tr>\n",
       "      <th>20</th>\n",
       "      <td>0.486</td>\n",
       "      <td>0.939913</td>\n",
       "    </tr>\n",
       "    <tr>\n",
       "      <th>21</th>\n",
       "      <td>0.891</td>\n",
       "      <td>0.584358</td>\n",
       "    </tr>\n",
       "    <tr>\n",
       "      <th>22</th>\n",
       "      <td>0.883</td>\n",
       "      <td>1.327791</td>\n",
       "    </tr>\n",
       "    <tr>\n",
       "      <th>23</th>\n",
       "      <td>1.099</td>\n",
       "      <td>1.230822</td>\n",
       "    </tr>\n",
       "    <tr>\n",
       "      <th>24</th>\n",
       "      <td>3.028</td>\n",
       "      <td>0.681328</td>\n",
       "    </tr>\n",
       "    <tr>\n",
       "      <th>25</th>\n",
       "      <td>-0.225</td>\n",
       "      <td>0.939913</td>\n",
       "    </tr>\n",
       "    <tr>\n",
       "      <th>26</th>\n",
       "      <td>1.026</td>\n",
       "      <td>0.972236</td>\n",
       "    </tr>\n",
       "    <tr>\n",
       "      <th>27</th>\n",
       "      <td>-0.069</td>\n",
       "      <td>0.164157</td>\n",
       "    </tr>\n",
       "    <tr>\n",
       "      <th>28</th>\n",
       "      <td>1.640</td>\n",
       "      <td>0.778297</td>\n",
       "    </tr>\n",
       "    <tr>\n",
       "      <th>29</th>\n",
       "      <td>1.833</td>\n",
       "      <td>1.230822</td>\n",
       "    </tr>\n",
       "  </tbody>\n",
       "</table>\n",
       "</div>"
      ],
      "text/plain": [
       "    Actual  Predicted\n",
       "0    0.755   1.101529\n",
       "1    1.852   1.295468\n",
       "2   -0.069   0.552035\n",
       "3    3.138   0.325773\n",
       "4    0.762   1.230822\n",
       "5    0.246   0.164157\n",
       "6    0.332   0.842944\n",
       "7    0.946   1.166175\n",
       "8    0.076   0.390419\n",
       "9    0.254   1.036883\n",
       "10  -0.066   0.099511\n",
       "11   0.854   1.069206\n",
       "12   1.415   1.166175\n",
       "13   0.316   0.358096\n",
       "14   0.091   0.358096\n",
       "15   0.648   0.196480\n",
       "16   0.337   0.293450\n",
       "17   0.978   0.810621\n",
       "18  -1.702   0.455066\n",
       "19   2.304   1.166175\n",
       "20   0.486   0.939913\n",
       "21   0.891   0.584358\n",
       "22   0.883   1.327791\n",
       "23   1.099   1.230822\n",
       "24   3.028   0.681328\n",
       "25  -0.225   0.939913\n",
       "26   1.026   0.972236\n",
       "27  -0.069   0.164157\n",
       "28   1.640   0.778297\n",
       "29   1.833   1.230822"
      ]
     },
     "execution_count": 50,
     "metadata": {},
     "output_type": "execute_result"
    }
   ],
   "source": [
    "data = pd.DataFrame({'Actual': y_test_2.flatten(), 'Predicted': y_predicted_2.flatten()})\n",
    "data.head(30)"
   ]
  },
  {
   "cell_type": "markdown",
   "id": "6747fa52",
   "metadata": {},
   "source": [
    "From the above analysis, with a correlation coefficent of 0.03 does suggest a positive correlation between Year and Temp_Change variables, the regression line does not cover all the data points. Also a low R2 score of 13% makes this regression model not a good fit for the analysis. We may have to find another way to further the analysis. "
   ]
  },
  {
   "cell_type": "code",
   "execution_count": null,
   "id": "38fe5d30",
   "metadata": {},
   "outputs": [],
   "source": []
  }
 ],
 "metadata": {
  "kernelspec": {
   "display_name": "Python 3 (ipykernel)",
   "language": "python",
   "name": "python3"
  },
  "language_info": {
   "codemirror_mode": {
    "name": "ipython",
    "version": 3
   },
   "file_extension": ".py",
   "mimetype": "text/x-python",
   "name": "python",
   "nbconvert_exporter": "python",
   "pygments_lexer": "ipython3",
   "version": "3.9.7"
  }
 },
 "nbformat": 4,
 "nbformat_minor": 5
}
