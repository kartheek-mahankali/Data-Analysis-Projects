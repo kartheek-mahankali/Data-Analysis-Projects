{
 "cells": [
  {
   "cell_type": "markdown",
   "id": "1fdd5a01",
   "metadata": {},
   "source": [
    "## 6.5 Machine Learning Part 2"
   ]
  },
  {
   "cell_type": "markdown",
   "id": "fa7bafa6",
   "metadata": {},
   "source": [
    "### This script contains the following\n",
    "#### 1. Importing libraries and data and renaming columns\n",
    "#### 2. The elbow technique\n",
    "#### 3. k-means clustering"
   ]
  },
  {
   "cell_type": "markdown",
   "id": "0bfbfaa6",
   "metadata": {},
   "source": [
    "### Importing libraries and Data"
   ]
  },
  {
   "cell_type": "code",
   "execution_count": 1,
   "id": "6433067f",
   "metadata": {},
   "outputs": [],
   "source": [
    "import pandas as pd\n",
    "import numpy as np\n",
    "import seaborn as sns\n",
    "import matplotlib\n",
    "import matplotlib.pyplot as plt\n",
    "import os\n",
    "import sklearn\n",
    "from sklearn.cluster import KMeans # Here is where you import the k-means algorithm from scikit-learn.\n",
    "import pylab as pl # PyLab is a convenience module that bulk imports matplotlib.\n"
   ]
  },
  {
   "cell_type": "code",
   "execution_count": 2,
   "id": "f1c3f897",
   "metadata": {},
   "outputs": [],
   "source": [
    "# This option ensures the graphs you create are displayed in your notebook without the need to \"call\" them specifically.\n",
    "%matplotlib inline"
   ]
  },
  {
   "cell_type": "code",
   "execution_count": 3,
   "id": "bb7c5342",
   "metadata": {},
   "outputs": [],
   "source": [
    "#define a path\n",
    "path = r'C:\\Users\\haari\\OneDrive\\Documents\\Temperature Change Analysis'"
   ]
  },
  {
   "cell_type": "code",
   "execution_count": 4,
   "id": "f711e03d",
   "metadata": {},
   "outputs": [],
   "source": [
    "#import the dataset Temp_data_Clean and FAOSTAT_clean\n",
    "df_stat = pd.read_csv(os.path.join(path, '02 Data', 'Prepared Data', 'FAOSTAT_Clean.csv'), index_col = False)"
   ]
  },
  {
   "cell_type": "code",
   "execution_count": 5,
   "id": "4427f66a",
   "metadata": {},
   "outputs": [
    {
     "data": {
      "text/plain": [
       "(222012, 8)"
      ]
     },
     "execution_count": 5,
     "metadata": {},
     "output_type": "execute_result"
    }
   ],
   "source": [
    "#check the data frames\n",
    "df_stat.shape"
   ]
  },
  {
   "cell_type": "code",
   "execution_count": 6,
   "id": "a906e4fe",
   "metadata": {},
   "outputs": [
    {
     "data": {
      "text/html": [
       "<div>\n",
       "<style scoped>\n",
       "    .dataframe tbody tr th:only-of-type {\n",
       "        vertical-align: middle;\n",
       "    }\n",
       "\n",
       "    .dataframe tbody tr th {\n",
       "        vertical-align: top;\n",
       "    }\n",
       "\n",
       "    .dataframe thead th {\n",
       "        text-align: right;\n",
       "    }\n",
       "</style>\n",
       "<table border=\"1\" class=\"dataframe\">\n",
       "  <thead>\n",
       "    <tr style=\"text-align: right;\">\n",
       "      <th></th>\n",
       "      <th>Unnamed: 0</th>\n",
       "      <th>Area Code (FAO)</th>\n",
       "      <th>Country</th>\n",
       "      <th>Months Code</th>\n",
       "      <th>Months</th>\n",
       "      <th>Year</th>\n",
       "      <th>Temp_Change</th>\n",
       "      <th>Temperature Change</th>\n",
       "    </tr>\n",
       "  </thead>\n",
       "  <tbody>\n",
       "    <tr>\n",
       "      <th>0</th>\n",
       "      <td>0</td>\n",
       "      <td>2</td>\n",
       "      <td>Afghanistan</td>\n",
       "      <td>7001</td>\n",
       "      <td>January</td>\n",
       "      <td>1961</td>\n",
       "      <td>0.746</td>\n",
       "      <td>High temp Change</td>\n",
       "    </tr>\n",
       "    <tr>\n",
       "      <th>1</th>\n",
       "      <td>1</td>\n",
       "      <td>2</td>\n",
       "      <td>Afghanistan</td>\n",
       "      <td>7001</td>\n",
       "      <td>January</td>\n",
       "      <td>1962</td>\n",
       "      <td>0.009</td>\n",
       "      <td>High temp Change</td>\n",
       "    </tr>\n",
       "    <tr>\n",
       "      <th>2</th>\n",
       "      <td>2</td>\n",
       "      <td>2</td>\n",
       "      <td>Afghanistan</td>\n",
       "      <td>7001</td>\n",
       "      <td>January</td>\n",
       "      <td>1963</td>\n",
       "      <td>2.695</td>\n",
       "      <td>High temp Change</td>\n",
       "    </tr>\n",
       "    <tr>\n",
       "      <th>3</th>\n",
       "      <td>3</td>\n",
       "      <td>2</td>\n",
       "      <td>Afghanistan</td>\n",
       "      <td>7001</td>\n",
       "      <td>January</td>\n",
       "      <td>1964</td>\n",
       "      <td>-5.277</td>\n",
       "      <td>Extreme Temp Change</td>\n",
       "    </tr>\n",
       "    <tr>\n",
       "      <th>4</th>\n",
       "      <td>4</td>\n",
       "      <td>2</td>\n",
       "      <td>Afghanistan</td>\n",
       "      <td>7001</td>\n",
       "      <td>January</td>\n",
       "      <td>1965</td>\n",
       "      <td>1.827</td>\n",
       "      <td>High temp Change</td>\n",
       "    </tr>\n",
       "  </tbody>\n",
       "</table>\n",
       "</div>"
      ],
      "text/plain": [
       "   Unnamed: 0  Area Code (FAO)      Country  Months Code   Months  Year  \\\n",
       "0           0                2  Afghanistan         7001  January  1961   \n",
       "1           1                2  Afghanistan         7001  January  1962   \n",
       "2           2                2  Afghanistan         7001  January  1963   \n",
       "3           3                2  Afghanistan         7001  January  1964   \n",
       "4           4                2  Afghanistan         7001  January  1965   \n",
       "\n",
       "   Temp_Change   Temperature Change  \n",
       "0        0.746     High temp Change  \n",
       "1        0.009     High temp Change  \n",
       "2        2.695     High temp Change  \n",
       "3       -5.277  Extreme Temp Change  \n",
       "4        1.827     High temp Change  "
      ]
     },
     "execution_count": 6,
     "metadata": {},
     "output_type": "execute_result"
    }
   ],
   "source": [
    "df_stat.head()"
   ]
  },
  {
   "cell_type": "code",
   "execution_count": 7,
   "id": "5ca70fe3",
   "metadata": {},
   "outputs": [],
   "source": [
    "#renaming columns in df_stat\n",
    "df_stat.rename(columns = {'Area Code (FAO)':'Country Code'}, inplace = True)"
   ]
  },
  {
   "cell_type": "code",
   "execution_count": 8,
   "id": "027c256f",
   "metadata": {},
   "outputs": [],
   "source": [
    "df_stat1 = df_stat.drop(columns = 'Unnamed: 0')"
   ]
  },
  {
   "cell_type": "code",
   "execution_count": 9,
   "id": "070ec96d",
   "metadata": {
    "scrolled": true
   },
   "outputs": [
    {
     "data": {
      "text/plain": [
       "Index(['Country Code', 'Country', 'Months Code', 'Months', 'Year',\n",
       "       'Temp_Change', 'Temperature Change'],\n",
       "      dtype='object')"
      ]
     },
     "execution_count": 9,
     "metadata": {},
     "output_type": "execute_result"
    }
   ],
   "source": [
    "df_stat1.columns"
   ]
  },
  {
   "cell_type": "code",
   "execution_count": 10,
   "id": "6d04c63f",
   "metadata": {},
   "outputs": [],
   "source": [
    "df_stat2 = df_stat1.drop(columns = {'Country', 'Months', 'Temperature Change'})"
   ]
  },
  {
   "cell_type": "code",
   "execution_count": 11,
   "id": "9d571c70",
   "metadata": {},
   "outputs": [
    {
     "data": {
      "text/plain": [
       "Index(['Country Code', 'Months Code', 'Year', 'Temp_Change'], dtype='object')"
      ]
     },
     "execution_count": 11,
     "metadata": {},
     "output_type": "execute_result"
    }
   ],
   "source": [
    "df_stat2.columns"
   ]
  },
  {
   "cell_type": "code",
   "execution_count": 12,
   "id": "bf44dd3f",
   "metadata": {},
   "outputs": [
    {
     "data": {
      "text/plain": [
       "(222012, 4)"
      ]
     },
     "execution_count": 12,
     "metadata": {},
     "output_type": "execute_result"
    }
   ],
   "source": [
    "df_stat2.shape"
   ]
  },
  {
   "cell_type": "code",
   "execution_count": 13,
   "id": "73d7c7f3",
   "metadata": {},
   "outputs": [],
   "source": [
    "df_stat3 = df_stat2[df_stat2['Year'] > 2000]"
   ]
  },
  {
   "cell_type": "code",
   "execution_count": 14,
   "id": "5a5eb65e",
   "metadata": {},
   "outputs": [
    {
     "data": {
      "text/plain": [
       "(77369, 4)"
      ]
     },
     "execution_count": 14,
     "metadata": {},
     "output_type": "execute_result"
    }
   ],
   "source": [
    "df_stat3.shape"
   ]
  },
  {
   "cell_type": "code",
   "execution_count": 15,
   "id": "888cf400",
   "metadata": {},
   "outputs": [],
   "source": [
    "df_stat4 = df_stat3[df_stat3['Months Code'] > 7015 ]"
   ]
  },
  {
   "cell_type": "code",
   "execution_count": 16,
   "id": "1a404205",
   "metadata": {
    "scrolled": true
   },
   "outputs": [
    {
     "data": {
      "text/plain": [
       "(22771, 4)"
      ]
     },
     "execution_count": 16,
     "metadata": {},
     "output_type": "execute_result"
    }
   ],
   "source": [
    "df_stat4.shape"
   ]
  },
  {
   "cell_type": "code",
   "execution_count": 17,
   "id": "ccad1936",
   "metadata": {
    "scrolled": true
   },
   "outputs": [
    {
     "data": {
      "text/plain": [
       "Index(['Country Code', 'Months Code', 'Year', 'Temp_Change'], dtype='object')"
      ]
     },
     "execution_count": 17,
     "metadata": {},
     "output_type": "execute_result"
    }
   ],
   "source": [
    "df_stat4.columns"
   ]
  },
  {
   "cell_type": "code",
   "execution_count": 18,
   "id": "7e493fb2",
   "metadata": {},
   "outputs": [],
   "source": [
    "data = df_stat2.groupby('Year').agg({'Temp_Change':'mean'}) "
   ]
  },
  {
   "cell_type": "code",
   "execution_count": 19,
   "id": "b8e36c26",
   "metadata": {},
   "outputs": [
    {
     "data": {
      "text/plain": [
       "(60, 1)"
      ]
     },
     "execution_count": 19,
     "metadata": {},
     "output_type": "execute_result"
    }
   ],
   "source": [
    "data.shape"
   ]
  },
  {
   "cell_type": "code",
   "execution_count": 20,
   "id": "890019af",
   "metadata": {},
   "outputs": [
    {
     "data": {
      "text/html": [
       "<div>\n",
       "<style scoped>\n",
       "    .dataframe tbody tr th:only-of-type {\n",
       "        vertical-align: middle;\n",
       "    }\n",
       "\n",
       "    .dataframe tbody tr th {\n",
       "        vertical-align: top;\n",
       "    }\n",
       "\n",
       "    .dataframe thead th {\n",
       "        text-align: right;\n",
       "    }\n",
       "</style>\n",
       "<table border=\"1\" class=\"dataframe\">\n",
       "  <thead>\n",
       "    <tr style=\"text-align: right;\">\n",
       "      <th></th>\n",
       "      <th>Temp_Change</th>\n",
       "    </tr>\n",
       "    <tr>\n",
       "      <th>Year</th>\n",
       "      <th></th>\n",
       "    </tr>\n",
       "  </thead>\n",
       "  <tbody>\n",
       "    <tr>\n",
       "      <th>1961</th>\n",
       "      <td>0.144699</td>\n",
       "    </tr>\n",
       "    <tr>\n",
       "      <th>1962</th>\n",
       "      <td>-0.035784</td>\n",
       "    </tr>\n",
       "    <tr>\n",
       "      <th>1963</th>\n",
       "      <td>-0.030519</td>\n",
       "    </tr>\n",
       "    <tr>\n",
       "      <th>1964</th>\n",
       "      <td>-0.115801</td>\n",
       "    </tr>\n",
       "    <tr>\n",
       "      <th>1965</th>\n",
       "      <td>-0.221856</td>\n",
       "    </tr>\n",
       "    <tr>\n",
       "      <th>1966</th>\n",
       "      <td>0.108907</td>\n",
       "    </tr>\n",
       "    <tr>\n",
       "      <th>1967</th>\n",
       "      <td>-0.126955</td>\n",
       "    </tr>\n",
       "    <tr>\n",
       "      <th>1968</th>\n",
       "      <td>-0.164114</td>\n",
       "    </tr>\n",
       "    <tr>\n",
       "      <th>1969</th>\n",
       "      <td>0.126069</td>\n",
       "    </tr>\n",
       "    <tr>\n",
       "      <th>1970</th>\n",
       "      <td>0.084453</td>\n",
       "    </tr>\n",
       "    <tr>\n",
       "      <th>1971</th>\n",
       "      <td>-0.183408</td>\n",
       "    </tr>\n",
       "    <tr>\n",
       "      <th>1972</th>\n",
       "      <td>-0.050052</td>\n",
       "    </tr>\n",
       "    <tr>\n",
       "      <th>1973</th>\n",
       "      <td>0.190302</td>\n",
       "    </tr>\n",
       "    <tr>\n",
       "      <th>1974</th>\n",
       "      <td>-0.123036</td>\n",
       "    </tr>\n",
       "    <tr>\n",
       "      <th>1975</th>\n",
       "      <td>-0.034646</td>\n",
       "    </tr>\n",
       "    <tr>\n",
       "      <th>1976</th>\n",
       "      <td>-0.207629</td>\n",
       "    </tr>\n",
       "    <tr>\n",
       "      <th>1977</th>\n",
       "      <td>0.181426</td>\n",
       "    </tr>\n",
       "    <tr>\n",
       "      <th>1978</th>\n",
       "      <td>0.053469</td>\n",
       "    </tr>\n",
       "    <tr>\n",
       "      <th>1979</th>\n",
       "      <td>0.217557</td>\n",
       "    </tr>\n",
       "    <tr>\n",
       "      <th>1980</th>\n",
       "      <td>0.198889</td>\n",
       "    </tr>\n",
       "    <tr>\n",
       "      <th>1981</th>\n",
       "      <td>0.194418</td>\n",
       "    </tr>\n",
       "    <tr>\n",
       "      <th>1982</th>\n",
       "      <td>0.152091</td>\n",
       "    </tr>\n",
       "    <tr>\n",
       "      <th>1983</th>\n",
       "      <td>0.338641</td>\n",
       "    </tr>\n",
       "    <tr>\n",
       "      <th>1984</th>\n",
       "      <td>0.076794</td>\n",
       "    </tr>\n",
       "    <tr>\n",
       "      <th>1985</th>\n",
       "      <td>0.066933</td>\n",
       "    </tr>\n",
       "    <tr>\n",
       "      <th>1986</th>\n",
       "      <td>0.112895</td>\n",
       "    </tr>\n",
       "    <tr>\n",
       "      <th>1987</th>\n",
       "      <td>0.406208</td>\n",
       "    </tr>\n",
       "    <tr>\n",
       "      <th>1988</th>\n",
       "      <td>0.417302</td>\n",
       "    </tr>\n",
       "    <tr>\n",
       "      <th>1989</th>\n",
       "      <td>0.272393</td>\n",
       "    </tr>\n",
       "    <tr>\n",
       "      <th>1990</th>\n",
       "      <td>0.556680</td>\n",
       "    </tr>\n",
       "    <tr>\n",
       "      <th>1991</th>\n",
       "      <td>0.321367</td>\n",
       "    </tr>\n",
       "    <tr>\n",
       "      <th>1992</th>\n",
       "      <td>0.249733</td>\n",
       "    </tr>\n",
       "    <tr>\n",
       "      <th>1993</th>\n",
       "      <td>0.229879</td>\n",
       "    </tr>\n",
       "    <tr>\n",
       "      <th>1994</th>\n",
       "      <td>0.571032</td>\n",
       "    </tr>\n",
       "    <tr>\n",
       "      <th>1995</th>\n",
       "      <td>0.585426</td>\n",
       "    </tr>\n",
       "    <tr>\n",
       "      <th>1996</th>\n",
       "      <td>0.297808</td>\n",
       "    </tr>\n",
       "    <tr>\n",
       "      <th>1997</th>\n",
       "      <td>0.554161</td>\n",
       "    </tr>\n",
       "    <tr>\n",
       "      <th>1998</th>\n",
       "      <td>0.945291</td>\n",
       "    </tr>\n",
       "    <tr>\n",
       "      <th>1999</th>\n",
       "      <td>0.730058</td>\n",
       "    </tr>\n",
       "    <tr>\n",
       "      <th>2000</th>\n",
       "      <td>0.676256</td>\n",
       "    </tr>\n",
       "    <tr>\n",
       "      <th>2001</th>\n",
       "      <td>0.808911</td>\n",
       "    </tr>\n",
       "    <tr>\n",
       "      <th>2002</th>\n",
       "      <td>0.907633</td>\n",
       "    </tr>\n",
       "    <tr>\n",
       "      <th>2003</th>\n",
       "      <td>0.843181</td>\n",
       "    </tr>\n",
       "    <tr>\n",
       "      <th>2004</th>\n",
       "      <td>0.770325</td>\n",
       "    </tr>\n",
       "    <tr>\n",
       "      <th>2005</th>\n",
       "      <td>0.848328</td>\n",
       "    </tr>\n",
       "    <tr>\n",
       "      <th>2006</th>\n",
       "      <td>0.875178</td>\n",
       "    </tr>\n",
       "    <tr>\n",
       "      <th>2007</th>\n",
       "      <td>0.975491</td>\n",
       "    </tr>\n",
       "    <tr>\n",
       "      <th>2008</th>\n",
       "      <td>0.796008</td>\n",
       "    </tr>\n",
       "    <tr>\n",
       "      <th>2009</th>\n",
       "      <td>0.923137</td>\n",
       "    </tr>\n",
       "    <tr>\n",
       "      <th>2010</th>\n",
       "      <td>1.050006</td>\n",
       "    </tr>\n",
       "    <tr>\n",
       "      <th>2011</th>\n",
       "      <td>0.834942</td>\n",
       "    </tr>\n",
       "    <tr>\n",
       "      <th>2012</th>\n",
       "      <td>0.874836</td>\n",
       "    </tr>\n",
       "    <tr>\n",
       "      <th>2013</th>\n",
       "      <td>0.937344</td>\n",
       "    </tr>\n",
       "    <tr>\n",
       "      <th>2014</th>\n",
       "      <td>1.119342</td>\n",
       "    </tr>\n",
       "    <tr>\n",
       "      <th>2015</th>\n",
       "      <td>1.299005</td>\n",
       "    </tr>\n",
       "    <tr>\n",
       "      <th>2016</th>\n",
       "      <td>1.407707</td>\n",
       "    </tr>\n",
       "    <tr>\n",
       "      <th>2017</th>\n",
       "      <td>1.266360</td>\n",
       "    </tr>\n",
       "    <tr>\n",
       "      <th>2018</th>\n",
       "      <td>1.302246</td>\n",
       "    </tr>\n",
       "    <tr>\n",
       "      <th>2019</th>\n",
       "      <td>1.452609</td>\n",
       "    </tr>\n",
       "    <tr>\n",
       "      <th>2020</th>\n",
       "      <td>1.500217</td>\n",
       "    </tr>\n",
       "  </tbody>\n",
       "</table>\n",
       "</div>"
      ],
      "text/plain": [
       "      Temp_Change\n",
       "Year             \n",
       "1961     0.144699\n",
       "1962    -0.035784\n",
       "1963    -0.030519\n",
       "1964    -0.115801\n",
       "1965    -0.221856\n",
       "1966     0.108907\n",
       "1967    -0.126955\n",
       "1968    -0.164114\n",
       "1969     0.126069\n",
       "1970     0.084453\n",
       "1971    -0.183408\n",
       "1972    -0.050052\n",
       "1973     0.190302\n",
       "1974    -0.123036\n",
       "1975    -0.034646\n",
       "1976    -0.207629\n",
       "1977     0.181426\n",
       "1978     0.053469\n",
       "1979     0.217557\n",
       "1980     0.198889\n",
       "1981     0.194418\n",
       "1982     0.152091\n",
       "1983     0.338641\n",
       "1984     0.076794\n",
       "1985     0.066933\n",
       "1986     0.112895\n",
       "1987     0.406208\n",
       "1988     0.417302\n",
       "1989     0.272393\n",
       "1990     0.556680\n",
       "1991     0.321367\n",
       "1992     0.249733\n",
       "1993     0.229879\n",
       "1994     0.571032\n",
       "1995     0.585426\n",
       "1996     0.297808\n",
       "1997     0.554161\n",
       "1998     0.945291\n",
       "1999     0.730058\n",
       "2000     0.676256\n",
       "2001     0.808911\n",
       "2002     0.907633\n",
       "2003     0.843181\n",
       "2004     0.770325\n",
       "2005     0.848328\n",
       "2006     0.875178\n",
       "2007     0.975491\n",
       "2008     0.796008\n",
       "2009     0.923137\n",
       "2010     1.050006\n",
       "2011     0.834942\n",
       "2012     0.874836\n",
       "2013     0.937344\n",
       "2014     1.119342\n",
       "2015     1.299005\n",
       "2016     1.407707\n",
       "2017     1.266360\n",
       "2018     1.302246\n",
       "2019     1.452609\n",
       "2020     1.500217"
      ]
     },
     "execution_count": 20,
     "metadata": {},
     "output_type": "execute_result"
    }
   ],
   "source": [
    "data.head(60)"
   ]
  },
  {
   "cell_type": "markdown",
   "id": "224073ab",
   "metadata": {},
   "source": [
    "### 2. The Elbow Technique"
   ]
  },
  {
   "cell_type": "code",
   "execution_count": 21,
   "id": "8e28add8",
   "metadata": {},
   "outputs": [],
   "source": [
    "num_cl = range(1, 10) # Defines the range of potential clusters in the data.\n",
    "kmeans = [KMeans(n_clusters=i) for i in num_cl] # Defines k-means clusters in the range assigned above.\""
   ]
  },
  {
   "cell_type": "code",
   "execution_count": 22,
   "id": "f0aa2cdb",
   "metadata": {},
   "outputs": [
    {
     "name": "stderr",
     "output_type": "stream",
     "text": [
      "C:\\Users\\haari\\anaconda3\\lib\\site-packages\\sklearn\\cluster\\_kmeans.py:881: UserWarning: KMeans is known to have a memory leak on Windows with MKL, when there are less chunks than available threads. You can avoid it by setting the environment variable OMP_NUM_THREADS=1.\n",
      "  warnings.warn(\n"
     ]
    },
    {
     "data": {
      "text/plain": [
       "[-13.643698922725394,\n",
       " -3.021161025090507,\n",
       " -1.5528349604920328,\n",
       " -0.8040696819612286,\n",
       " -0.445199130269727,\n",
       " -0.32239203871457184,\n",
       " -0.23323584900591338,\n",
       " -0.1923774794600776,\n",
       " -0.14698258324136163]"
      ]
     },
     "execution_count": 22,
     "metadata": {},
     "output_type": "execute_result"
    }
   ],
   "source": [
    "score_stat = [kmeans[i].fit(data).score(data) for i in range(len(kmeans))]\n",
    "score_stat"
   ]
  },
  {
   "cell_type": "code",
   "execution_count": 23,
   "id": "f46987c5",
   "metadata": {},
   "outputs": [
    {
     "data": {
      "image/png": "[encoded data removed]",
      "text/plain": [
       "<Figure size 432x288 with 1 Axes>"
      ]
     },
     "metadata": {
      "needs_background": "light"
     },
     "output_type": "display_data"
    }
   ],
   "source": [
    "# Plot the elbow curve using PyLab.\n",
    "pl.plot(num_cl,score_stat)\n",
    "pl.xlabel('Number of Clusters')\n",
    "pl.ylabel('Score_Stat')\n",
    "pl.title('Elbow Curve')\n",
    "pl.show()"
   ]
  },
  {
   "cell_type": "markdown",
   "id": "8ec2cc11",
   "metadata": {},
   "source": [
    "In the above elbow curve, the curve seems to flatten out after 3 making the number of clusters for this data set to be 3"
   ]
  },
  {
   "cell_type": "markdown",
   "id": "0f3d961f",
   "metadata": {},
   "source": [
    "### 3. k-means Clustering"
   ]
  },
  {
   "cell_type": "code",
   "execution_count": 24,
   "id": "7e69dbb5",
   "metadata": {},
   "outputs": [],
   "source": [
    "#create the k-means object for df_stat dataframe\n",
    "kmeans = KMeans(n_clusters = 3, n_jobs = -1)"
   ]
  },
  {
   "cell_type": "code",
   "execution_count": 25,
   "id": "d1dd2f1e",
   "metadata": {},
   "outputs": [
    {
     "name": "stderr",
     "output_type": "stream",
     "text": [
      "C:\\Users\\haari\\anaconda3\\lib\\site-packages\\sklearn\\cluster\\_kmeans.py:792: FutureWarning: 'n_jobs' was deprecated in version 0.23 and will be removed in 1.0 (renaming of 0.25).\n",
      "  warnings.warn(\"'n_jobs' was deprecated in version 0.23 and will be\"\n"
     ]
    },
    {
     "data": {
      "text/plain": [
       "KMeans(n_clusters=3, n_jobs=-1)"
      ]
     },
     "execution_count": 25,
     "metadata": {},
     "output_type": "execute_result"
    }
   ],
   "source": [
    "# Fit the k-means object to the data\n",
    "kmeans.fit(data)"
   ]
  },
  {
   "cell_type": "code",
   "execution_count": 26,
   "id": "d2a7de0a",
   "metadata": {},
   "outputs": [
    {
     "name": "stderr",
     "output_type": "stream",
     "text": [
      "C:\\Users\\haari\\anaconda3\\lib\\site-packages\\sklearn\\cluster\\_kmeans.py:792: FutureWarning: 'n_jobs' was deprecated in version 0.23 and will be removed in 1.0 (renaming of 0.25).\n",
      "  warnings.warn(\"'n_jobs' was deprecated in version 0.23 and will be\"\n"
     ]
    }
   ],
   "source": [
    "data['clusters'] = kmeans.fit_predict(data)"
   ]
  },
  {
   "cell_type": "code",
   "execution_count": 27,
   "id": "db5450f8",
   "metadata": {},
   "outputs": [
    {
     "data": {
      "text/html": [
       "<div>\n",
       "<style scoped>\n",
       "    .dataframe tbody tr th:only-of-type {\n",
       "        vertical-align: middle;\n",
       "    }\n",
       "\n",
       "    .dataframe tbody tr th {\n",
       "        vertical-align: top;\n",
       "    }\n",
       "\n",
       "    .dataframe thead th {\n",
       "        text-align: right;\n",
       "    }\n",
       "</style>\n",
       "<table border=\"1\" class=\"dataframe\">\n",
       "  <thead>\n",
       "    <tr style=\"text-align: right;\">\n",
       "      <th></th>\n",
       "      <th>Temp_Change</th>\n",
       "      <th>clusters</th>\n",
       "    </tr>\n",
       "    <tr>\n",
       "      <th>Year</th>\n",
       "      <th></th>\n",
       "      <th></th>\n",
       "    </tr>\n",
       "  </thead>\n",
       "  <tbody>\n",
       "    <tr>\n",
       "      <th>1961</th>\n",
       "      <td>0.144699</td>\n",
       "      <td>1</td>\n",
       "    </tr>\n",
       "    <tr>\n",
       "      <th>1962</th>\n",
       "      <td>-0.035784</td>\n",
       "      <td>1</td>\n",
       "    </tr>\n",
       "    <tr>\n",
       "      <th>1963</th>\n",
       "      <td>-0.030519</td>\n",
       "      <td>1</td>\n",
       "    </tr>\n",
       "    <tr>\n",
       "      <th>1964</th>\n",
       "      <td>-0.115801</td>\n",
       "      <td>1</td>\n",
       "    </tr>\n",
       "    <tr>\n",
       "      <th>1965</th>\n",
       "      <td>-0.221856</td>\n",
       "      <td>1</td>\n",
       "    </tr>\n",
       "  </tbody>\n",
       "</table>\n",
       "</div>"
      ],
      "text/plain": [
       "      Temp_Change  clusters\n",
       "Year                       \n",
       "1961     0.144699         1\n",
       "1962    -0.035784         1\n",
       "1963    -0.030519         1\n",
       "1964    -0.115801         1\n",
       "1965    -0.221856         1"
      ]
     },
     "execution_count": 27,
     "metadata": {},
     "output_type": "execute_result"
    }
   ],
   "source": [
    "data.head()"
   ]
  },
  {
   "cell_type": "code",
   "execution_count": 28,
   "id": "8994fd02",
   "metadata": {},
   "outputs": [
    {
     "data": {
      "text/plain": [
       "Temp_Change    0\n",
       "clusters       0\n",
       "dtype: int64"
      ]
     },
     "execution_count": 28,
     "metadata": {},
     "output_type": "execute_result"
    }
   ],
   "source": [
    "data.isnull().sum()"
   ]
  },
  {
   "cell_type": "code",
   "execution_count": 29,
   "id": "3ee84872",
   "metadata": {
    "scrolled": true
   },
   "outputs": [
    {
     "data": {
      "text/plain": [
       "1    33\n",
       "2    20\n",
       "0     7\n",
       "Name: clusters, dtype: int64"
      ]
     },
     "execution_count": 29,
     "metadata": {},
     "output_type": "execute_result"
    }
   ],
   "source": [
    "data['clusters'].value_counts()"
   ]
  },
  {
   "cell_type": "code",
   "execution_count": 30,
   "id": "ceef5b59",
   "metadata": {},
   "outputs": [
    {
     "data": {
      "image/png": "[encoded data removed]",
      "text/plain": [
       "<Figure size 864x576 with 1 Axes>"
      ]
     },
     "metadata": {
      "needs_background": "light"
     },
     "output_type": "display_data"
    }
   ],
   "source": [
    "# Plot the clusters for the 'Year' and 'Temp_Change' variables.\n",
    "plt.figure(figsize=(12,8))\n",
    "ax = sns.scatterplot(x=data['Temp_Change'], y=data['clusters'], hue=kmeans.labels_, s=100) \n",
    "# Here, you're subsetting `X` for the x and y arguments to avoid using their labels. \n",
    "# `hue` takes the value of the attribute `kmeans.labels_`, which is the result of running the k-means algorithm.\n",
    "# `s` represents the size of the points you want to see in the plot.\n",
    "ax.grid(False) # This removes the grid from the background.\n",
    "plt.xlabel('Average Temp Change') # Label x-axis.\n",
    "plt.ylabel('Year') # Label y-axis.\n",
    "plt.show()"
   ]
  },
  {
   "cell_type": "markdown",
   "id": "5c8877b3",
   "metadata": {},
   "source": [
    "The above cluster are grouped based on the average Temp. Change from negative to positive."
   ]
  },
  {
   "cell_type": "code",
   "execution_count": 31,
   "id": "f0785d05",
   "metadata": {},
   "outputs": [],
   "source": [
    "data.loc[data['clusters'] == 2, 'cluster'] = 'dark purple'\n",
    "data.loc[data['clusters'] == 1, 'cluster'] = 'purple'\n",
    "data.loc[data['clusters'] == 0, 'cluster'] = 'pink'"
   ]
  },
  {
   "cell_type": "code",
   "execution_count": 32,
   "id": "bafb311e",
   "metadata": {},
   "outputs": [
    {
     "data": {
      "text/html": [
       "<div>\n",
       "<style scoped>\n",
       "    .dataframe tbody tr th:only-of-type {\n",
       "        vertical-align: middle;\n",
       "    }\n",
       "\n",
       "    .dataframe tbody tr th {\n",
       "        vertical-align: top;\n",
       "    }\n",
       "\n",
       "    .dataframe thead tr th {\n",
       "        text-align: left;\n",
       "    }\n",
       "\n",
       "    .dataframe thead tr:last-of-type th {\n",
       "        text-align: right;\n",
       "    }\n",
       "</style>\n",
       "<table border=\"1\" class=\"dataframe\">\n",
       "  <thead>\n",
       "    <tr>\n",
       "      <th></th>\n",
       "      <th colspan=\"2\" halign=\"left\">Temp_Change</th>\n",
       "    </tr>\n",
       "    <tr>\n",
       "      <th></th>\n",
       "      <th>mean</th>\n",
       "      <th>median</th>\n",
       "    </tr>\n",
       "    <tr>\n",
       "      <th>cluster</th>\n",
       "      <th></th>\n",
       "      <th></th>\n",
       "    </tr>\n",
       "  </thead>\n",
       "  <tbody>\n",
       "    <tr>\n",
       "      <th>dark purple</th>\n",
       "      <td>0.803211</td>\n",
       "      <td>0.839061</td>\n",
       "    </tr>\n",
       "    <tr>\n",
       "      <th>pink</th>\n",
       "      <td>1.335355</td>\n",
       "      <td>1.302246</td>\n",
       "    </tr>\n",
       "    <tr>\n",
       "      <th>purple</th>\n",
       "      <td>0.095407</td>\n",
       "      <td>0.112895</td>\n",
       "    </tr>\n",
       "  </tbody>\n",
       "</table>\n",
       "</div>"
      ],
      "text/plain": [
       "            Temp_Change          \n",
       "                   mean    median\n",
       "cluster                          \n",
       "dark purple    0.803211  0.839061\n",
       "pink           1.335355  1.302246\n",
       "purple         0.095407  0.112895"
      ]
     },
     "execution_count": 32,
     "metadata": {},
     "output_type": "execute_result"
    }
   ],
   "source": [
    "data.groupby('cluster').agg({'Temp_Change':['mean', 'median']})"
   ]
  },
  {
   "cell_type": "markdown",
   "id": "3eedcf44",
   "metadata": {},
   "source": [
    "From the above scatterplot with clusters, we can see that the average Temperature Changes are clustered or grouped into 3 groups based on the temperature being very low, very high and in between. From this, we can find what year had extreme temperatures and what year had medium temperatures. "
   ]
  },
  {
   "cell_type": "code",
   "execution_count": 35,
   "id": "c5023129",
   "metadata": {},
   "outputs": [],
   "source": [
    "#exporting data\n",
    "data.to_csv(os.path.join(path, '02 Data', 'Prepared Data', 'Data_Clusters.csv'))"
   ]
  },
  {
   "cell_type": "code",
   "execution_count": null,
   "id": "2e73896a",
   "metadata": {},
   "outputs": [],
   "source": []
  }
 ],
 "metadata": {
  "kernelspec": {
   "display_name": "Python 3 (ipykernel)",
   "language": "python",
   "name": "python3"
  },
  "language_info": {
   "codemirror_mode": {
    "name": "ipython",
    "version": 3
   },
   "file_extension": ".py",
   "mimetype": "text/x-python",
   "name": "python",
   "nbconvert_exporter": "python",
   "pygments_lexer": "ipython3",
   "version": "3.9.7"
  }
 },
 "nbformat": 4,
 "nbformat_minor": 5
}
