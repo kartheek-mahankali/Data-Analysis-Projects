{
 "cells": [
  {
   "cell_type": "markdown",
   "id": "8b234810",
   "metadata": {},
   "source": [
    "4.7: Deriving New Variable"
   ]
  },
  {
   "cell_type": "code",
   "execution_count": 52,
   "id": "3d9baa38",
   "metadata": {},
   "outputs": [],
   "source": [
    "#import libraries\n",
    "import pandas as pd\n",
    "import numpy as np\n",
    "import os"
   ]
  },
  {
   "cell_type": "code",
   "execution_count": 53,
   "id": "80f8c37f",
   "metadata": {},
   "outputs": [],
   "source": [
    "path = r'C:\\Users\\haari\\OneDrive\\Documents\\Instacart Basket Analysis'"
   ]
  },
  {
   "cell_type": "code",
   "execution_count": 54,
   "id": "bddaf8b3",
   "metadata": {},
   "outputs": [
    {
     "data": {
      "text/plain": [
       "'C:\\\\Users\\\\haari\\\\OneDrive\\\\Documents\\\\Instacart Basket Analysis'"
      ]
     },
     "execution_count": 54,
     "metadata": {},
     "output_type": "execute_result"
    }
   ],
   "source": [
    "path"
   ]
  },
  {
   "cell_type": "code",
   "execution_count": 55,
   "id": "8078fc31",
   "metadata": {},
   "outputs": [],
   "source": [
    "#import orders_products_combined.pkl\n",
    "ords_prods_merged = pd.read_pickle(os.path.join(path, '02 Data', 'Processed Data', 'orders_products_combined_2.pkl'))"
   ]
  },
  {
   "cell_type": "code",
   "execution_count": 56,
   "id": "60b76b2c",
   "metadata": {},
   "outputs": [],
   "source": [
    "#create a subset\n",
    "df = ords_prods_merged[:1000000]"
   ]
  },
  {
   "cell_type": "code",
   "execution_count": 57,
   "id": "59f25d9c",
   "metadata": {},
   "outputs": [
    {
     "data": {
      "text/plain": [
       "(1000000, 16)"
      ]
     },
     "execution_count": 57,
     "metadata": {},
     "output_type": "execute_result"
    }
   ],
   "source": [
    "df.shape"
   ]
  },
  {
   "cell_type": "code",
   "execution_count": 58,
   "id": "76d0e412",
   "metadata": {},
   "outputs": [
    {
     "data": {
      "text/html": [
       "<div>\n",
       "<style scoped>\n",
       "    .dataframe tbody tr th:only-of-type {\n",
       "        vertical-align: middle;\n",
       "    }\n",
       "\n",
       "    .dataframe tbody tr th {\n",
       "        vertical-align: top;\n",
       "    }\n",
       "\n",
       "    .dataframe thead th {\n",
       "        text-align: right;\n",
       "    }\n",
       "</style>\n",
       "<table border=\"1\" class=\"dataframe\">\n",
       "  <thead>\n",
       "    <tr style=\"text-align: right;\">\n",
       "      <th></th>\n",
       "      <th>order_id</th>\n",
       "      <th>user_id</th>\n",
       "      <th>order_number</th>\n",
       "      <th>order_dow</th>\n",
       "      <th>order_hour_of_day</th>\n",
       "      <th>days_since_prior_order</th>\n",
       "      <th>product_id</th>\n",
       "      <th>add_to_cart_order</th>\n",
       "      <th>reordered</th>\n",
       "      <th>Unnamed: 0</th>\n",
       "      <th>aisle_id</th>\n",
       "      <th>department_id</th>\n",
       "      <th>prices</th>\n",
       "    </tr>\n",
       "  </thead>\n",
       "  <tbody>\n",
       "    <tr>\n",
       "      <th>count</th>\n",
       "      <td>1.000000e+06</td>\n",
       "      <td>1000000.000000</td>\n",
       "      <td>1000000.000000</td>\n",
       "      <td>1000000.000000</td>\n",
       "      <td>1000000.000000</td>\n",
       "      <td>936395.000000</td>\n",
       "      <td>1000000.000000</td>\n",
       "      <td>1000000.000000</td>\n",
       "      <td>1000000.000000</td>\n",
       "      <td>999047.000000</td>\n",
       "      <td>999047.000000</td>\n",
       "      <td>999047.000000</td>\n",
       "      <td>999047.000000</td>\n",
       "    </tr>\n",
       "    <tr>\n",
       "      <th>mean</th>\n",
       "      <td>1.711980e+06</td>\n",
       "      <td>3292.053140</td>\n",
       "      <td>17.312732</td>\n",
       "      <td>2.765291</td>\n",
       "      <td>13.416372</td>\n",
       "      <td>11.062050</td>\n",
       "      <td>25572.810576</td>\n",
       "      <td>8.311157</td>\n",
       "      <td>0.591185</td>\n",
       "      <td>25597.403581</td>\n",
       "      <td>71.056053</td>\n",
       "      <td>9.985685</td>\n",
       "      <td>11.400000</td>\n",
       "    </tr>\n",
       "    <tr>\n",
       "      <th>std</th>\n",
       "      <td>9.869941e+05</td>\n",
       "      <td>1865.263103</td>\n",
       "      <td>17.928260</td>\n",
       "      <td>2.091081</td>\n",
       "      <td>4.221170</td>\n",
       "      <td>8.811753</td>\n",
       "      <td>14090.836846</td>\n",
       "      <td>7.207951</td>\n",
       "      <td>0.491615</td>\n",
       "      <td>14079.435769</td>\n",
       "      <td>38.228058</td>\n",
       "      <td>6.294815</td>\n",
       "      <td>426.197447</td>\n",
       "    </tr>\n",
       "    <tr>\n",
       "      <th>min</th>\n",
       "      <td>8.000000e+00</td>\n",
       "      <td>1.000000</td>\n",
       "      <td>1.000000</td>\n",
       "      <td>0.000000</td>\n",
       "      <td>0.000000</td>\n",
       "      <td>0.000000</td>\n",
       "      <td>1.000000</td>\n",
       "      <td>1.000000</td>\n",
       "      <td>0.000000</td>\n",
       "      <td>0.000000</td>\n",
       "      <td>1.000000</td>\n",
       "      <td>1.000000</td>\n",
       "      <td>1.000000</td>\n",
       "    </tr>\n",
       "    <tr>\n",
       "      <th>25%</th>\n",
       "      <td>8.620390e+05</td>\n",
       "      <td>1697.000000</td>\n",
       "      <td>5.000000</td>\n",
       "      <td>1.000000</td>\n",
       "      <td>10.000000</td>\n",
       "      <td>5.000000</td>\n",
       "      <td>13517.000000</td>\n",
       "      <td>3.000000</td>\n",
       "      <td>0.000000</td>\n",
       "      <td>13536.000000</td>\n",
       "      <td>31.000000</td>\n",
       "      <td>4.000000</td>\n",
       "      <td>4.200000</td>\n",
       "    </tr>\n",
       "    <tr>\n",
       "      <th>50%</th>\n",
       "      <td>1.711282e+06</td>\n",
       "      <td>3342.000000</td>\n",
       "      <td>11.000000</td>\n",
       "      <td>3.000000</td>\n",
       "      <td>13.000000</td>\n",
       "      <td>8.000000</td>\n",
       "      <td>25300.000000</td>\n",
       "      <td>6.000000</td>\n",
       "      <td>1.000000</td>\n",
       "      <td>25341.000000</td>\n",
       "      <td>83.000000</td>\n",
       "      <td>9.000000</td>\n",
       "      <td>7.400000</td>\n",
       "    </tr>\n",
       "    <tr>\n",
       "      <th>75%</th>\n",
       "      <td>2.563542e+06</td>\n",
       "      <td>4934.000000</td>\n",
       "      <td>24.000000</td>\n",
       "      <td>5.000000</td>\n",
       "      <td>16.000000</td>\n",
       "      <td>15.000000</td>\n",
       "      <td>37792.000000</td>\n",
       "      <td>11.000000</td>\n",
       "      <td>1.000000</td>\n",
       "      <td>37829.000000</td>\n",
       "      <td>107.000000</td>\n",
       "      <td>16.000000</td>\n",
       "      <td>11.300000</td>\n",
       "    </tr>\n",
       "    <tr>\n",
       "      <th>max</th>\n",
       "      <td>3.420853e+06</td>\n",
       "      <td>6467.000000</td>\n",
       "      <td>99.000000</td>\n",
       "      <td>6.000000</td>\n",
       "      <td>23.000000</td>\n",
       "      <td>30.000000</td>\n",
       "      <td>49687.000000</td>\n",
       "      <td>95.000000</td>\n",
       "      <td>1.000000</td>\n",
       "      <td>49691.000000</td>\n",
       "      <td>134.000000</td>\n",
       "      <td>21.000000</td>\n",
       "      <td>99999.000000</td>\n",
       "    </tr>\n",
       "  </tbody>\n",
       "</table>\n",
       "</div>"
      ],
      "text/plain": [
       "           order_id         user_id    order_number       order_dow  \\\n",
       "count  1.000000e+06  1000000.000000  1000000.000000  1000000.000000   \n",
       "mean   1.711980e+06     3292.053140       17.312732        2.765291   \n",
       "std    9.869941e+05     1865.263103       17.928260        2.091081   \n",
       "min    8.000000e+00        1.000000        1.000000        0.000000   \n",
       "25%    8.620390e+05     1697.000000        5.000000        1.000000   \n",
       "50%    1.711282e+06     3342.000000       11.000000        3.000000   \n",
       "75%    2.563542e+06     4934.000000       24.000000        5.000000   \n",
       "max    3.420853e+06     6467.000000       99.000000        6.000000   \n",
       "\n",
       "       order_hour_of_day  days_since_prior_order      product_id  \\\n",
       "count     1000000.000000           936395.000000  1000000.000000   \n",
       "mean           13.416372               11.062050    25572.810576   \n",
       "std             4.221170                8.811753    14090.836846   \n",
       "min             0.000000                0.000000        1.000000   \n",
       "25%            10.000000                5.000000    13517.000000   \n",
       "50%            13.000000                8.000000    25300.000000   \n",
       "75%            16.000000               15.000000    37792.000000   \n",
       "max            23.000000               30.000000    49687.000000   \n",
       "\n",
       "       add_to_cart_order       reordered     Unnamed: 0       aisle_id  \\\n",
       "count     1000000.000000  1000000.000000  999047.000000  999047.000000   \n",
       "mean            8.311157        0.591185   25597.403581      71.056053   \n",
       "std             7.207951        0.491615   14079.435769      38.228058   \n",
       "min             1.000000        0.000000       0.000000       1.000000   \n",
       "25%             3.000000        0.000000   13536.000000      31.000000   \n",
       "50%             6.000000        1.000000   25341.000000      83.000000   \n",
       "75%            11.000000        1.000000   37829.000000     107.000000   \n",
       "max            95.000000        1.000000   49691.000000     134.000000   \n",
       "\n",
       "       department_id         prices  \n",
       "count  999047.000000  999047.000000  \n",
       "mean        9.985685      11.400000  \n",
       "std         6.294815     426.197447  \n",
       "min         1.000000       1.000000  \n",
       "25%         4.000000       4.200000  \n",
       "50%         9.000000       7.400000  \n",
       "75%        16.000000      11.300000  \n",
       "max        21.000000   99999.000000  "
      ]
     },
     "execution_count": 58,
     "metadata": {},
     "output_type": "execute_result"
    }
   ],
   "source": [
    "df.describe()"
   ]
  },
  {
   "cell_type": "code",
   "execution_count": 59,
   "id": "b26674c3",
   "metadata": {},
   "outputs": [
    {
     "data": {
      "text/html": [
       "<div>\n",
       "<style scoped>\n",
       "    .dataframe tbody tr th:only-of-type {\n",
       "        vertical-align: middle;\n",
       "    }\n",
       "\n",
       "    .dataframe tbody tr th {\n",
       "        vertical-align: top;\n",
       "    }\n",
       "\n",
       "    .dataframe thead th {\n",
       "        text-align: right;\n",
       "    }\n",
       "</style>\n",
       "<table border=\"1\" class=\"dataframe\">\n",
       "  <thead>\n",
       "    <tr style=\"text-align: right;\">\n",
       "      <th></th>\n",
       "      <th>order_id</th>\n",
       "      <th>user_id</th>\n",
       "      <th>eval_set</th>\n",
       "      <th>order_number</th>\n",
       "      <th>order_dow</th>\n",
       "      <th>order_hour_of_day</th>\n",
       "      <th>days_since_prior_order</th>\n",
       "      <th>product_id</th>\n",
       "      <th>add_to_cart_order</th>\n",
       "      <th>reordered</th>\n",
       "      <th>Unnamed: 0</th>\n",
       "      <th>product_name</th>\n",
       "      <th>aisle_id</th>\n",
       "      <th>department_id</th>\n",
       "      <th>prices</th>\n",
       "      <th>_merge</th>\n",
       "    </tr>\n",
       "  </thead>\n",
       "  <tbody>\n",
       "    <tr>\n",
       "      <th>0</th>\n",
       "      <td>2539329</td>\n",
       "      <td>1</td>\n",
       "      <td>prior</td>\n",
       "      <td>1</td>\n",
       "      <td>2</td>\n",
       "      <td>8</td>\n",
       "      <td>NaN</td>\n",
       "      <td>196</td>\n",
       "      <td>1</td>\n",
       "      <td>0</td>\n",
       "      <td>195.0</td>\n",
       "      <td>Soda</td>\n",
       "      <td>77.0</td>\n",
       "      <td>7.0</td>\n",
       "      <td>9.0</td>\n",
       "      <td>both</td>\n",
       "    </tr>\n",
       "    <tr>\n",
       "      <th>1</th>\n",
       "      <td>2539329</td>\n",
       "      <td>1</td>\n",
       "      <td>prior</td>\n",
       "      <td>1</td>\n",
       "      <td>2</td>\n",
       "      <td>8</td>\n",
       "      <td>NaN</td>\n",
       "      <td>14084</td>\n",
       "      <td>2</td>\n",
       "      <td>0</td>\n",
       "      <td>14084.0</td>\n",
       "      <td>Organic Unsweetened Vanilla Almond Milk</td>\n",
       "      <td>91.0</td>\n",
       "      <td>16.0</td>\n",
       "      <td>12.5</td>\n",
       "      <td>both</td>\n",
       "    </tr>\n",
       "  </tbody>\n",
       "</table>\n",
       "</div>"
      ],
      "text/plain": [
       "   order_id  user_id eval_set  order_number  order_dow  order_hour_of_day  \\\n",
       "0   2539329        1    prior             1          2                  8   \n",
       "1   2539329        1    prior             1          2                  8   \n",
       "\n",
       "   days_since_prior_order  product_id  add_to_cart_order  reordered  \\\n",
       "0                     NaN         196                  1          0   \n",
       "1                     NaN       14084                  2          0   \n",
       "\n",
       "   Unnamed: 0                             product_name  aisle_id  \\\n",
       "0       195.0                                     Soda      77.0   \n",
       "1     14084.0  Organic Unsweetened Vanilla Almond Milk      91.0   \n",
       "\n",
       "   department_id  prices _merge  \n",
       "0            7.0     9.0   both  \n",
       "1           16.0    12.5   both  "
      ]
     },
     "execution_count": 59,
     "metadata": {},
     "output_type": "execute_result"
    }
   ],
   "source": [
    "df.head(2)"
   ]
  },
  {
   "cell_type": "code",
   "execution_count": 60,
   "id": "6146bd76",
   "metadata": {},
   "outputs": [
    {
     "name": "stderr",
     "output_type": "stream",
     "text": [
      "C:\\Users\\haari\\anaconda3\\lib\\site-packages\\pandas\\core\\frame.py:4906: SettingWithCopyWarning: \n",
      "A value is trying to be set on a copy of a slice from a DataFrame\n",
      "\n",
      "See the caveats in the documentation: https://pandas.pydata.org/pandas-docs/stable/user_guide/indexing.html#returning-a-view-versus-a-copy\n",
      "  return super().drop(\n"
     ]
    }
   ],
   "source": [
    "df.drop('_merge', axis = 'columns', inplace = True)"
   ]
  },
  {
   "cell_type": "code",
   "execution_count": 61,
   "id": "e74c1365",
   "metadata": {},
   "outputs": [],
   "source": [
    "df.drop('Unnamed: 0', axis = 'columns', inplace = True)"
   ]
  },
  {
   "cell_type": "code",
   "execution_count": 62,
   "id": "e3e7c67d",
   "metadata": {},
   "outputs": [
    {
     "data": {
      "text/plain": [
       "(1000000, 14)"
      ]
     },
     "execution_count": 62,
     "metadata": {},
     "output_type": "execute_result"
    }
   ],
   "source": [
    "df.shape"
   ]
  },
  {
   "cell_type": "code",
   "execution_count": 63,
   "id": "e1bff854",
   "metadata": {},
   "outputs": [],
   "source": [
    "#define a function\n",
    "def price_label(row):\n",
    "\n",
    "  if row['prices'] <= 5:\n",
    "    return 'Low-range product'\n",
    "  elif (row['prices'] > 5) and (row['prices'] <= 15):\n",
    "    return 'Mid-range product'\n",
    "  elif row['prices'] > 15:\n",
    "    return 'High range'\n",
    "  else: return 'Not enough data'"
   ]
  },
  {
   "cell_type": "code",
   "execution_count": 64,
   "id": "ea63b5bb",
   "metadata": {},
   "outputs": [
    {
     "name": "stderr",
     "output_type": "stream",
     "text": [
      "C:\\Users\\haari\\AppData\\Local\\Temp/ipykernel_13676/2848743372.py:1: SettingWithCopyWarning: \n",
      "A value is trying to be set on a copy of a slice from a DataFrame.\n",
      "Try using .loc[row_indexer,col_indexer] = value instead\n",
      "\n",
      "See the caveats in the documentation: https://pandas.pydata.org/pandas-docs/stable/user_guide/indexing.html#returning-a-view-versus-a-copy\n",
      "  df['price_range'] = df.apply(price_label, axis=1)\n"
     ]
    }
   ],
   "source": [
    "df['price_range'] = df.apply(price_label, axis=1)"
   ]
  },
  {
   "cell_type": "code",
   "execution_count": 65,
   "id": "b860b4dd",
   "metadata": {},
   "outputs": [
    {
     "data": {
      "text/plain": [
       "Mid-range product    672525\n",
       "Low-range product    314109\n",
       "High range            12413\n",
       "Not enough data         953\n",
       "Name: price_range, dtype: int64"
      ]
     },
     "execution_count": 65,
     "metadata": {},
     "output_type": "execute_result"
    }
   ],
   "source": [
    "df['price_range'].value_counts(dropna = False)"
   ]
  },
  {
   "cell_type": "code",
   "execution_count": 66,
   "id": "a50ef142",
   "metadata": {},
   "outputs": [
    {
     "data": {
      "text/plain": [
       "(1000000, 15)"
      ]
     },
     "execution_count": 66,
     "metadata": {},
     "output_type": "execute_result"
    }
   ],
   "source": [
    "df.shape"
   ]
  },
  {
   "cell_type": "code",
   "execution_count": 67,
   "id": "41763d37",
   "metadata": {},
   "outputs": [
    {
     "name": "stderr",
     "output_type": "stream",
     "text": [
      "C:\\Users\\haari\\anaconda3\\lib\\site-packages\\pandas\\core\\indexing.py:1684: SettingWithCopyWarning: \n",
      "A value is trying to be set on a copy of a slice from a DataFrame.\n",
      "Try using .loc[row_indexer,col_indexer] = value instead\n",
      "\n",
      "See the caveats in the documentation: https://pandas.pydata.org/pandas-docs/stable/user_guide/indexing.html#returning-a-view-versus-a-copy\n",
      "  self.obj[key] = infer_fill_value(value)\n",
      "C:\\Users\\haari\\anaconda3\\lib\\site-packages\\pandas\\core\\indexing.py:1817: SettingWithCopyWarning: \n",
      "A value is trying to be set on a copy of a slice from a DataFrame.\n",
      "Try using .loc[row_indexer,col_indexer] = value instead\n",
      "\n",
      "See the caveats in the documentation: https://pandas.pydata.org/pandas-docs/stable/user_guide/indexing.html#returning-a-view-versus-a-copy\n",
      "  self._setitem_single_column(loc, value, pi)\n"
     ]
    }
   ],
   "source": [
    "#if-else condition using loc()\n",
    "df.loc[df['prices'] > 15, 'price_range_loc'] = 'High-range product'"
   ]
  },
  {
   "cell_type": "code",
   "execution_count": 68,
   "id": "cec79966",
   "metadata": {},
   "outputs": [],
   "source": [
    "df.loc[(df['prices'] <= 15) & (df['prices'] > 5), 'price_range_loc'] = 'Mid-range product' "
   ]
  },
  {
   "cell_type": "code",
   "execution_count": 69,
   "id": "6070d0a1",
   "metadata": {},
   "outputs": [],
   "source": [
    "df.loc[df['prices'] <= 5, 'price_range_loc'] = 'Low-range product'"
   ]
  },
  {
   "cell_type": "code",
   "execution_count": 70,
   "id": "e001a120",
   "metadata": {},
   "outputs": [
    {
     "data": {
      "text/plain": [
       "Mid-range product     672525\n",
       "Low-range product     314109\n",
       "High-range product     12413\n",
       "NaN                      953\n",
       "Name: price_range_loc, dtype: int64"
      ]
     },
     "execution_count": 70,
     "metadata": {},
     "output_type": "execute_result"
    }
   ],
   "source": [
    "df['price_range_loc'].value_counts(dropna = False)"
   ]
  },
  {
   "cell_type": "code",
   "execution_count": 71,
   "id": "cd738ecd",
   "metadata": {},
   "outputs": [],
   "source": [
    "ords_prods_merged.loc[ords_prods_merged['prices'] > 15, 'price_range_loc'] = 'High-range product'"
   ]
  },
  {
   "cell_type": "code",
   "execution_count": 72,
   "id": "b439aa6d",
   "metadata": {},
   "outputs": [],
   "source": [
    "ords_prods_merged.loc[(ords_prods_merged['prices'] <= 15) & (ords_prods_merged['prices'] > 5), 'price_range_loc'] = 'Mid-range product'"
   ]
  },
  {
   "cell_type": "code",
   "execution_count": 73,
   "id": "4ad137ef",
   "metadata": {},
   "outputs": [],
   "source": [
    "ords_prods_merged.loc[ords_prods_merged['prices'] <= 5, 'price_range_loc'] = 'Low-range product'"
   ]
  },
  {
   "cell_type": "code",
   "execution_count": 74,
   "id": "523e1fcf",
   "metadata": {},
   "outputs": [
    {
     "data": {
      "text/plain": [
       "Mid-range product     21860860\n",
       "Low-range product     10126321\n",
       "High-range product      417678\n",
       "NaN                      30200\n",
       "Name: price_range_loc, dtype: int64"
      ]
     },
     "execution_count": 74,
     "metadata": {},
     "output_type": "execute_result"
    }
   ],
   "source": [
    "ords_prods_merged['price_range_loc'].value_counts(dropna = False)"
   ]
  },
  {
   "cell_type": "code",
   "execution_count": 75,
   "id": "7831986a",
   "metadata": {},
   "outputs": [
    {
     "data": {
      "text/plain": [
       "0    6209808\n",
       "1    5665951\n",
       "6    4500391\n",
       "2    4217868\n",
       "5    4209603\n",
       "3    3844175\n",
       "4    3787263\n",
       "Name: order_dow, dtype: int64"
      ]
     },
     "execution_count": 75,
     "metadata": {},
     "output_type": "execute_result"
    }
   ],
   "source": [
    "ords_prods_merged['order_dow'].value_counts(dropna = False)"
   ]
  },
  {
   "cell_type": "code",
   "execution_count": 76,
   "id": "db325cb0",
   "metadata": {},
   "outputs": [],
   "source": [
    "#create a for loop for busiest day\n",
    "result = []\n",
    "\n",
    "for value in ords_prods_merged[\"order_dow\"]:\n",
    "  if value == 0:\n",
    "    result.append(\"Busiest day\")\n",
    "  elif value == 4:\n",
    "    result.append(\"Least busy\")\n",
    "  else:\n",
    "    result.append(\"Regularly busy\")"
   ]
  },
  {
   "cell_type": "code",
   "execution_count": 77,
   "id": "5899c812",
   "metadata": {},
   "outputs": [],
   "source": [
    "ords_prods_merged['busiest_day'] = result"
   ]
  },
  {
   "cell_type": "code",
   "execution_count": 78,
   "id": "d8e2178e",
   "metadata": {},
   "outputs": [
    {
     "data": {
      "text/plain": [
       "Regularly busy    22437988\n",
       "Busiest day        6209808\n",
       "Least busy         3787263\n",
       "Name: busiest_day, dtype: int64"
      ]
     },
     "execution_count": 78,
     "metadata": {},
     "output_type": "execute_result"
    }
   ],
   "source": [
    "ords_prods_merged['busiest_day'].value_counts(dropna = False)"
   ]
  },
  {
   "cell_type": "markdown",
   "id": "6a9c9f2e",
   "metadata": {},
   "source": [
    "Task 4.7"
   ]
  },
  {
   "cell_type": "markdown",
   "id": "981237eb",
   "metadata": {},
   "source": [
    "Step 1: Columns 'price_lable' and 'busiest_day' are created"
   ]
  },
  {
   "cell_type": "markdown",
   "id": "7a02a117",
   "metadata": {},
   "source": [
    "Step 2: Create new columns 'busiest_days' with 2 busiest days and 'slowest_days' with 2 slowest days"
   ]
  },
  {
   "cell_type": "code",
   "execution_count": 80,
   "id": "31104992",
   "metadata": {},
   "outputs": [
    {
     "data": {
      "text/plain": [
       "0    6209808\n",
       "1    5665951\n",
       "6    4500391\n",
       "2    4217868\n",
       "5    4209603\n",
       "3    3844175\n",
       "4    3787263\n",
       "Name: order_dow, dtype: int64"
      ]
     },
     "execution_count": 80,
     "metadata": {},
     "output_type": "execute_result"
    }
   ],
   "source": [
    "# Count of values for all the days in the data frame ords_prod_merged\n",
    "ords_prods_merged['order_dow'].value_counts(dropna = False)"
   ]
  },
  {
   "cell_type": "code",
   "execution_count": 82,
   "id": "12207698",
   "metadata": {},
   "outputs": [],
   "source": [
    "#days 0 and 1 are the busiest days and days 3 and 4 are the slowest days\n",
    "#create a for loop for busiest days and slowest days\n",
    "new_result = []\n",
    "\n",
    "for value in ords_prods_merged[\"order_dow\"]:\n",
    "  if value == 0:\n",
    "    new_result.append(\"Busiest days\")\n",
    "  elif value == 1:\n",
    "    new_result.append(\"Busiest days\")\n",
    "  elif value == 3:\n",
    "    new_result.append(\"Slowest days\")\n",
    "  elif value == 4:\n",
    "    new_result.append(\"Slowest days\")\n",
    "  else:\n",
    "    new_result.append(\"Regularly busy\")"
   ]
  },
  {
   "cell_type": "code",
   "execution_count": 84,
   "id": "d169a260",
   "metadata": {},
   "outputs": [],
   "source": [
    "#assign new_result to busiest_day column\n",
    "ords_prods_merged['Busiest_day'] = new_result"
   ]
  },
  {
   "cell_type": "markdown",
   "id": "1ddfa4e7",
   "metadata": {},
   "source": [
    "    Step 3: Check the values of this new column for accuracy"
   ]
  },
  {
   "cell_type": "code",
   "execution_count": 85,
   "id": "0c0112df",
   "metadata": {},
   "outputs": [
    {
     "data": {
      "text/plain": [
       "Regularly busy    12927862\n",
       "Busiest days      11875759\n",
       "Slowest days       7631438\n",
       "Name: Busiest_day, dtype: int64"
      ]
     },
     "execution_count": 85,
     "metadata": {},
     "output_type": "execute_result"
    }
   ],
   "source": [
    "#check the output with value_counts\n",
    "ords_prods_merged['Busiest_day'].value_counts(dropna = False)"
   ]
  },
  {
   "cell_type": "markdown",
   "id": "a49dfe3e",
   "metadata": {},
   "source": [
    "From the above result, the number of Busiest and Slowest days are increased and the number of Regular days are decreased."
   ]
  },
  {
   "cell_type": "markdown",
   "id": "4684e7de",
   "metadata": {},
   "source": [
    "Step 4: Create new column 'busiest_period_of_day' with labels 'Most Orders', 'Average Orders' and 'Fewest Orders'"
   ]
  },
  {
   "cell_type": "code",
   "execution_count": 86,
   "id": "d73f4715",
   "metadata": {},
   "outputs": [
    {
     "data": {
      "text/plain": [
       "10    2764476\n",
       "11    2738647\n",
       "14    2691598\n",
       "15    2664583\n",
       "13    2663346\n",
       "12    2620898\n",
       "16    2537506\n",
       "9     2456751\n",
       "17    2089510\n",
       "8     1719991\n",
       "18    1637956\n",
       "19    1259416\n",
       "20     977049\n",
       "7      891951\n",
       "21     796379\n",
       "22     634743\n",
       "23     402621\n",
       "6      290796\n",
       "0      218951\n",
       "1      115787\n",
       "5       88064\n",
       "2       69435\n",
       "4       53284\n",
       "3       51321\n",
       "Name: order_hour_of_day, dtype: int64"
      ]
     },
     "execution_count": 86,
     "metadata": {},
     "output_type": "execute_result"
    }
   ],
   "source": [
    "#Count of values for each hour of the day\n",
    "ords_prods_merged['order_hour_of_day'].value_counts(dropna = False)"
   ]
  },
  {
   "cell_type": "code",
   "execution_count": 88,
   "id": "d9c33686",
   "metadata": {},
   "outputs": [],
   "source": [
    "# hours 8 to 18 have the most count of values and 10 am with the highest, and hours 0 to 5 have the least count of values\n",
    "# and 3am with the least counts of values\n",
    "updated_result = []\n",
    "    \n",
    "for value in ords_prods_merged[\"order_hour_of_day\"]:\n",
    "  if value > 10 & value <=18:\n",
    "     updated_result.append(\"Most_orders\")\n",
    "  elif value <=5:\n",
    "     updated_result.append(\"Fewest_orders\")\n",
    "  else:\n",
    "     updated_result.append(\"Average_orders\")\n",
    "      "
   ]
  },
  {
   "cell_type": "code",
   "execution_count": 89,
   "id": "3dbff866",
   "metadata": {},
   "outputs": [],
   "source": [
    "#assign updated_result to the 'busiest_period_of_day' column\n",
    "ords_prods_merged['Busiest_period_of_day'] = updated_result"
   ]
  },
  {
   "cell_type": "markdown",
   "id": "4bcb481b",
   "metadata": {},
   "source": [
    "Step 5: Print the frequency of the new column"
   ]
  },
  {
   "cell_type": "code",
   "execution_count": 90,
   "id": "cffca73d",
   "metadata": {},
   "outputs": [
    {
     "data": {
      "text/plain": [
       "Most_orders       27662206\n",
       "Average_orders     4484467\n",
       "Fewest_orders       288386\n",
       "Name: Busiest_period_of_day, dtype: int64"
      ]
     },
     "execution_count": 90,
     "metadata": {},
     "output_type": "execute_result"
    }
   ],
   "source": [
    "#check the output\n",
    "ords_prods_merged['Busiest_period_of_day'].value_counts(dropna = False)"
   ]
  },
  {
   "cell_type": "code",
   "execution_count": 92,
   "id": "41a20307",
   "metadata": {},
   "outputs": [],
   "source": [
    "#Step 7: Exporting data frame as pickle file\n",
    "ords_prods_merged.to_pickle(os.path.join(path, '02 Data','Processed Data', 'ords_prods_merged.pkl'))"
   ]
  },
  {
   "cell_type": "code",
   "execution_count": null,
   "id": "1a7963b2",
   "metadata": {},
   "outputs": [],
   "source": []
  }
 ],
 "metadata": {
  "kernelspec": {
   "display_name": "Python 3 (ipykernel)",
   "language": "python",
   "name": "python3"
  },
  "language_info": {
   "codemirror_mode": {
    "name": "ipython",
    "version": 3
   },
   "file_extension": ".py",
   "mimetype": "text/x-python",
   "name": "python",
   "nbconvert_exporter": "python",
   "pygments_lexer": "ipython3",
   "version": "3.9.7"
  }
 },
 "nbformat": 4,
 "nbformat_minor": 5
}
